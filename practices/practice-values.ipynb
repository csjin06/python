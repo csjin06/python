{
  "cells": [
    {
      "cell_type": "markdown",
      "metadata": {
        "id": "view-in-github",
        "colab_type": "text"
      },
      "source": [
        "<a href=\"https://colab.research.google.com/github/csjin06/python/blob/main/practices/practice-values.ipynb\" target=\"_parent\"><img src=\"https://colab.research.google.com/assets/colab-badge.svg\" alt=\"Open In Colab\"/></a>"
      ]
    },
    {
      "cell_type": "markdown",
      "id": "2d03d247-e2d3-4afe-ab5e-83dc989ed62d",
      "metadata": {
        "id": "2d03d247-e2d3-4afe-ab5e-83dc989ed62d"
      },
      "source": [
        "# (연습) 값과 변수"
      ]
    },
    {
      "cell_type": "markdown",
      "id": "01c8fab8",
      "metadata": {
        "id": "01c8fab8"
      },
      "source": [
        "**주의 사항**\n",
        "\n",
        "* 기존에 작성된 코드셀/텍스트셀은 수정하지 않는다.\n",
        "* 필요한 경우 코드셀 또는 텍스트셀을 추가할 수 있다.\n",
        "* 실습 파일을 구글 드라이브에서 링크로 누구가 공유할 수 있도록 설정하세요."
      ]
    },
    {
      "cell_type": "markdown",
      "id": "d172688d",
      "metadata": {
        "id": "d172688d"
      },
      "source": [
        "**문제 1**"
      ]
    },
    {
      "cell_type": "markdown",
      "id": "c080a0aa",
      "metadata": {
        "id": "c080a0aa"
      },
      "source": [
        "아래 코드를 실행했을 때 리스트 `[]`의 의미를 설명하라."
      ]
    },
    {
      "cell_type": "code",
      "execution_count": 3,
      "id": "932276af",
      "metadata": {
        "id": "932276af",
        "outputId": "a5de7f79-1b3b-403f-b631-93fd6f77eaaf",
        "colab": {
          "base_uri": "https://localhost:8080/"
        }
      },
      "outputs": [
        {
          "output_type": "stream",
          "name": "stdout",
          "text": [
            "거짓인 경우라서 실행됨!\n"
          ]
        }
      ],
      "source": [
        "if []:\n",
        "    print(\"참인 경우라서 실행됨!\")\n",
        "else:\n",
        "    print(\"거짓인 경우라서 실행됨!\")"
      ]
    },
    {
      "cell_type": "markdown",
      "id": "ef6f3f9b",
      "metadata": {
        "id": "ef6f3f9b"
      },
      "source": [
        "*실행 결과 설명*\n",
        "리스트 []는 비어있기 때문에 거짓으로 판단된다.\n",
        "..."
      ]
    },
    {
      "cell_type": "markdown",
      "id": "fff0bafd",
      "metadata": {
        "id": "fff0bafd"
      },
      "source": [
        "**문제 2**"
      ]
    },
    {
      "cell_type": "markdown",
      "id": "b651f816",
      "metadata": {
        "id": "b651f816"
      },
      "source": [
        "다음 두 수식이 동일한 값으로 계산되는 이유를 연산자 우선순위 개념을 이용하여 설명하라."
      ]
    },
    {
      "cell_type": "code",
      "execution_count": 4,
      "id": "7572fcbf",
      "metadata": {
        "id": "7572fcbf",
        "outputId": "ae95ef92-0d64-442c-818e-33ad7d60f3aa",
        "colab": {
          "base_uri": "https://localhost:8080/"
        }
      },
      "outputs": [
        {
          "output_type": "execute_result",
          "data": {
            "text/plain": [
              "1.6"
            ]
          },
          "metadata": {},
          "execution_count": 4
        }
      ],
      "source": [
        "2**3 / (2 + 3)"
      ]
    },
    {
      "cell_type": "code",
      "execution_count": 5,
      "id": "fd2d1a2f",
      "metadata": {
        "id": "fd2d1a2f",
        "outputId": "1b3ddc76-24c1-4f69-ffe5-08df8f8ebfe8",
        "colab": {
          "base_uri": "https://localhost:8080/"
        }
      },
      "outputs": [
        {
          "output_type": "execute_result",
          "data": {
            "text/plain": [
              "1.6"
            ]
          },
          "metadata": {},
          "execution_count": 5
        }
      ],
      "source": [
        "(2**3) / (2 + 3)"
      ]
    },
    {
      "cell_type": "markdown",
      "id": "78fe1d6f",
      "metadata": {
        "id": "78fe1d6f"
      },
      "source": [
        "*실행 결과 설명*\n",
        "연산자의 우선순위는 ()가 우선이고, 그 다음이 거듭제곱(**), 다음이 곱셈(*)과 나눗셈(/), 다음이 덧셈(+)과 뺄셈(-)이다.\n",
        "따라서 첫번째 식을 해석하면 괄호가 먼저인 2+3을 계산하고, 제곱근인 2**3을 계산한 뒤 나눈다.\n",
        "두번째 식을 해석하면 괄호를 먼저 계산해 (2**3)과 (2+3)을 계산한 뒤 둘을 나누면 된다.\n",
        "..."
      ]
    },
    {
      "cell_type": "markdown",
      "id": "7783bf66",
      "metadata": {
        "id": "7783bf66"
      },
      "source": [
        "**문제 3**"
      ]
    },
    {
      "cell_type": "markdown",
      "id": "5fba797e",
      "metadata": {
        "id": "5fba797e"
      },
      "source": [
        "(1) 아래 내용의 논리식을 할당받는 변수 `p1`을 선언한 후에 `p1`에 할당된 진리값을 확인하라.\n",
        "\n",
        "> 5가 7보다 크거나 같은지 여부 판단"
      ]
    },
    {
      "cell_type": "code",
      "execution_count": 9,
      "id": "70958989",
      "metadata": {
        "id": "70958989",
        "outputId": "3161c6ca-10c5-465b-e4a9-b34607cd147a",
        "colab": {
          "base_uri": "https://localhost:8080/"
        }
      },
      "outputs": [
        {
          "output_type": "execute_result",
          "data": {
            "text/plain": [
              "False"
            ]
          },
          "metadata": {},
          "execution_count": 9
        }
      ],
      "source": [
        "# 코드를 작성한다.\n",
        "p1=5\n",
        "\n",
        "p1 >= 7\n",
        ""
      ]
    },
    {
      "cell_type": "markdown",
      "id": "3df2ba3f",
      "metadata": {
        "id": "3df2ba3f"
      },
      "source": [
        "(2) 아래 내용의 논리식을 할당받는 변수 `p2`를 선언한 후에 `p2`에 할당된 진리값을 확인하라.\n",
        "\n",
        "> \"Hello\"가 \"hello\" 보다 작은지 여부 판단\n",
        "\n",
        "참고: 두 문자열 사이의 크기비교가 가능하다. 알파벳 순서로 하며 대문자가 소문자보다 작다고 판단된다."
      ]
    },
    {
      "cell_type": "code",
      "execution_count": 17,
      "id": "c4f90201",
      "metadata": {
        "id": "c4f90201",
        "outputId": "454708e3-cedc-41a5-b751-3bcfe0b7d232",
        "colab": {
          "base_uri": "https://localhost:8080/"
        }
      },
      "outputs": [
        {
          "output_type": "execute_result",
          "data": {
            "text/plain": [
              "True"
            ]
          },
          "metadata": {},
          "execution_count": 17
        }
      ],
      "source": [
        "# 코드를 작성한다.\n",
        "p2=\"Hello\"\n",
        "\n",
        "p2 < \"hello\""
      ]
    },
    {
      "cell_type": "markdown",
      "id": "00a34ae7",
      "metadata": {
        "id": "00a34ae7"
      },
      "source": [
        "**문제 4**"
      ]
    },
    {
      "cell_type": "markdown",
      "id": "4c51581d",
      "metadata": {
        "id": "4c51581d"
      },
      "source": [
        "변수 `x`에 정수 17을 할당했을 때\n",
        "변수 `x`가 가리키는 값이 짝수면 0을,\n",
        "홀수면 1을 출력하는 코드를 `if ... else ...` 조건문을 이용하여 작성하라."
      ]
    },
    {
      "cell_type": "code",
      "execution_count": 13,
      "id": "71c9239d",
      "metadata": {
        "id": "71c9239d",
        "outputId": "acb2c898-927f-414d-a70b-00c13cb688a5",
        "colab": {
          "base_uri": "https://localhost:8080/"
        }
      },
      "outputs": [
        {
          "output_type": "stream",
          "name": "stdout",
          "text": [
            "1\n"
          ]
        }
      ],
      "source": [
        "# 코드를 작성한다.\n",
        "x=17\n",
        "\n",
        "if x%2==0:\n",
        "  print(0)\n",
        "else:\n",
        "  print(1)"
      ]
    },
    {
      "cell_type": "markdown",
      "id": "7a6cc55a",
      "metadata": {
        "id": "7a6cc55a"
      },
      "source": [
        "**문제 5**"
      ]
    },
    {
      "cell_type": "markdown",
      "id": "2b27714d",
      "metadata": {
        "id": "2b27714d"
      },
      "source": [
        "변수 `greetings`는 아래 문자열을 가리킨다."
      ]
    },
    {
      "cell_type": "code",
      "execution_count": 25,
      "id": "fa154e13",
      "metadata": {
        "id": "fa154e13"
      },
      "outputs": [],
      "source": [
        "greetings = '파이썬, 안녕!'"
      ]
    },
    {
      "cell_type": "markdown",
      "id": "9066bf3e",
      "metadata": {
        "id": "9066bf3e"
      },
      "source": [
        "변수 `char`가 가리키는 문자열이 `greetings`가 가리키는 문자열에  포함되어 있는 경우에는\n",
        "'파이썬 너무 좋아!!!' 문장을 출력하고,\n",
        "아니면 '파이썬을 부탁해^^' 라는 문장을 출력하는 코드를 작성한다."
      ]
    },
    {
      "cell_type": "code",
      "execution_count": 26,
      "id": "76f89dc2",
      "metadata": {
        "id": "76f89dc2",
        "outputId": "ccecbe0a-f41e-4258-90b1-1d65cac04753",
        "colab": {
          "base_uri": "https://localhost:8080/"
        }
      },
      "outputs": [
        {
          "output_type": "stream",
          "name": "stdout",
          "text": [
            "파이썬 너무 좋아!!!\n"
          ]
        }
      ],
      "source": [
        "# 코드를 작성한다.\n",
        "char = '파이썬'\n",
        "\n",
        "if char in greetings:\n",
        "  print('파이썬 너무 좋아!!!')\n",
        "else:\n",
        "  print('파이썬을 부탁해^^')"
      ]
    },
    {
      "cell_type": "markdown",
      "id": "3012281a",
      "metadata": {
        "id": "3012281a"
      },
      "source": [
        "**문제 6**"
      ]
    },
    {
      "cell_type": "markdown",
      "id": "1ca39f18",
      "metadata": {
        "id": "1ca39f18"
      },
      "source": [
        "변수 `num_list`가 다음과 같이 선언된다."
      ]
    },
    {
      "cell_type": "code",
      "execution_count": 21,
      "id": "7f3b877a",
      "metadata": {
        "id": "7f3b877a"
      },
      "outputs": [],
      "source": [
        "num_list = [3, 6, 9, 12, 15, 18, 21]"
      ]
    },
    {
      "cell_type": "markdown",
      "id": "83ee6ceb",
      "metadata": {
        "id": "83ee6ceb"
      },
      "source": [
        "(1) 리스트에 포함된 `9`를 확인하는 인덱싱을 표현하는 수식을 정의하라."
      ]
    },
    {
      "cell_type": "code",
      "execution_count": 22,
      "id": "e4806141",
      "metadata": {
        "id": "e4806141",
        "outputId": "cf5e5138-adb2-40a7-b878-0ced811e4d23",
        "colab": {
          "base_uri": "https://localhost:8080/"
        }
      },
      "outputs": [
        {
          "output_type": "stream",
          "name": "stdout",
          "text": [
            "9\n"
          ]
        }
      ],
      "source": [
        "# 코드를 작성한다.\n",
        "print(num_list[2])"
      ]
    },
    {
      "cell_type": "markdown",
      "id": "abb86c6b",
      "metadata": {
        "id": "abb86c6b"
      },
      "source": [
        "(2) 리스트에 포함된 `18`을 확인하는 인덱싱을 표현하는 수식을 정의하라."
      ]
    },
    {
      "cell_type": "code",
      "execution_count": 24,
      "id": "d5c27848",
      "metadata": {
        "id": "d5c27848",
        "outputId": "875e3d2e-dc5b-42dc-c1f4-1c73dec03544",
        "colab": {
          "base_uri": "https://localhost:8080/"
        }
      },
      "outputs": [
        {
          "output_type": "stream",
          "name": "stdout",
          "text": [
            "18\n"
          ]
        }
      ],
      "source": [
        "from os import nice\n",
        "# 코드를 작성한다.\n",
        "print(num_list[5])"
      ]
    },
    {
      "cell_type": "markdown",
      "id": "ec8b925e",
      "metadata": {
        "id": "ec8b925e"
      },
      "source": [
        "**문제 7**"
      ]
    },
    {
      "cell_type": "markdown",
      "id": "08314815",
      "metadata": {
        "id": "08314815"
      },
      "source": [
        "100만원을 복리로 연이자 5%인 예금에 3년간 은행에 맡겼을 때\n",
        "3년 후에 수령할 금액을 계산하는 코드를 다양한 변수를 활용하여 구현하라.\n",
        "단, 다음 형식으로 출력한다.\n",
        "\n",
        "> 3년 후 받을 원금 + 이자는 OOO 원입니다."
      ]
    },
    {
      "cell_type": "markdown",
      "id": "257201ca",
      "metadata": {
        "id": "257201ca"
      },
      "source": [
        "복리계산은 아래 식을 따른다."
      ]
    },
    {
      "cell_type": "markdown",
      "id": "e1ccfb42",
      "metadata": {
        "id": "e1ccfb42"
      },
      "source": [
        "> 원리합계 ＝ 원금 * (1 ＋ 연금리/일년에 이자받는횟수) ** (일년에 이자받는횟수 * 기간)"
      ]
    },
    {
      "cell_type": "markdown",
      "id": "2c678a1e",
      "metadata": {
        "id": "2c678a1e"
      },
      "source": [
        "복리 개념과 계산법에 대해서는 아래 링크를 참고한다.\n",
        "\n",
        "- [복리 개념과 계산법](https://a2-finance.com/ko/calculators/%EB%AA%A8%EB%93%A0-%EA%B3%84%EC%82%B0%EA%B8%B0/%EB%B3%B5%EB%A6%AC-%EA%B3%84%EC%82%B0%EA%B8%B0)"
      ]
    },
    {
      "cell_type": "markdown",
      "id": "3116b83f",
      "metadata": {
        "id": "3116b83f"
      },
      "source": [
        "아래 변수를 활용한다.\n",
        "\n",
        "- principal = 원금\n",
        "- rate = 연이자율\n",
        "- period = 저축기간(년)\n",
        "- savings = 원리합계"
      ]
    },
    {
      "cell_type": "code",
      "execution_count": 23,
      "id": "5d6f2a97",
      "metadata": {
        "id": "5d6f2a97",
        "outputId": "d286bc9a-1c92-4f4f-c8a5-5b194c6a042c",
        "colab": {
          "base_uri": "https://localhost:8080/"
        }
      },
      "outputs": [
        {
          "output_type": "stream",
          "name": "stdout",
          "text": [
            "3년 후 받을 원금 + 이자는 1157625.0000000002 원입니다.\n"
          ]
        }
      ],
      "source": [
        "# 코드를 작성한다.\n",
        "principal=1000000\n",
        "rate=0.05\n",
        "period=3\n",
        "savings=principal*(1+rate)**(period)\n",
        "print(\"3년 후 받을 원금 + 이자는\",savings,\"원입니다.\")"
      ]
    }
  ],
  "metadata": {
    "kernelspec": {
      "display_name": "Python 3 (ipykernel)",
      "language": "python",
      "name": "python3"
    },
    "language_info": {
      "codemirror_mode": {
        "name": "ipython",
        "version": 3
      },
      "file_extension": ".py",
      "mimetype": "text/x-python",
      "name": "python",
      "nbconvert_exporter": "python",
      "pygments_lexer": "ipython3",
      "version": "3.12.2"
    },
    "toc-autonumbering": true,
    "toc-showcode": false,
    "toc-showmarkdowntxt": false,
    "colab": {
      "provenance": [],
      "include_colab_link": true
    }
  },
  "nbformat": 4,
  "nbformat_minor": 5
}