{
  "cells": [
    {
      "cell_type": "markdown",
      "metadata": {
        "id": "view-in-github",
        "colab_type": "text"
      },
      "source": [
        "<a href=\"https://colab.research.google.com/github/csjin06/python/blob/main/practices/practice-strings_part1.ipynb\" target=\"_parent\"><img src=\"https://colab.research.google.com/assets/colab-badge.svg\" alt=\"Open In Colab\"/></a>"
      ]
    },
    {
      "cell_type": "markdown",
      "metadata": {
        "id": "L8A-HAiKG89Y"
      },
      "source": [
        "# (연습) 문자열 1부"
      ]
    },
    {
      "cell_type": "markdown",
      "metadata": {
        "id": "MgBCG_zE0A9f"
      },
      "source": [
        "**주의 사항**\n",
        "\n",
        "* 기존에 작성된 코드 셀과 텍스트 셀은 수정하지 않는다.\n",
        "* 필요한 경우 코드 셀 또는 텍스트 셀을 추가해서 사용한다."
      ]
    },
    {
      "cell_type": "markdown",
      "metadata": {
        "id": "X5Oe7XpsG89e"
      },
      "source": [
        "## 문제 1"
      ]
    },
    {
      "cell_type": "markdown",
      "metadata": {
        "id": "VSn2CdFhG89e"
      },
      "source": [
        "**질문 1**"
      ]
    },
    {
      "cell_type": "markdown",
      "metadata": {
        "id": "V4Wu6ptQG89e"
      },
      "source": [
        "아래 부동소수점을 소수점 이하 셋째 자리까지만 출력되도록 f-문자열을 활용하라."
      ]
    },
    {
      "cell_type": "code",
      "execution_count": 1,
      "metadata": {
        "id": "l8kjKNyCG89f"
      },
      "outputs": [],
      "source": [
        "num = 23.36778\n",
        "num1 = -84.99888"
      ]
    },
    {
      "cell_type": "code",
      "execution_count": 4,
      "metadata": {
        "id": "3pwriIcoG89g",
        "outputId": "777fd434-4b35-4a0f-a6ad-41407bd51089",
        "colab": {
          "base_uri": "https://localhost:8080/"
        }
      },
      "outputs": [
        {
          "output_type": "stream",
          "name": "stdout",
          "text": [
            "23.368\n",
            "-84.999\n"
          ]
        }
      ],
      "source": [
        "# 코드를 작성한다.\n",
        "# 필요하면 코드셀 또는 텍스트셀을 추가할 수 있습니다.\n",
        "print(f'{num:.3f}')\n",
        "print(f'{num1:.3f}')\n"
      ]
    },
    {
      "cell_type": "markdown",
      "metadata": {
        "id": "35W9fC7AG89h"
      },
      "source": [
        "**질문 2**"
      ]
    },
    {
      "cell_type": "markdown",
      "metadata": {
        "id": "9FxPEBxHG89h"
      },
      "source": [
        "아래 부동소수점의 소수점을 모두 버리로 정수 부문만 출력되도록 f-문자열을 활용하라.\n",
        "또한 정수는 총 10칸을 차지하도록 한다.\n",
        "단, `int()` 함수는 사용하지 않는다."
      ]
    },
    {
      "cell_type": "code",
      "execution_count": 5,
      "metadata": {
        "id": "sBHaafA2G89h"
      },
      "outputs": [],
      "source": [
        "num2 = 23.36778\n",
        "num3 = 8223.62874636778"
      ]
    },
    {
      "cell_type": "code",
      "execution_count": 11,
      "metadata": {
        "id": "Xt6WtTeDG89i",
        "outputId": "dfcdc450-c2c9-43ab-e8d8-ae57c4bdac0a",
        "colab": {
          "base_uri": "https://localhost:8080/"
        }
      },
      "outputs": [
        {
          "output_type": "stream",
          "name": "stdout",
          "text": [
            "        23\n",
            "      8224\n"
          ]
        }
      ],
      "source": [
        "# 코드를 작성한다.\n",
        "# 필요하면 코드셀 또는 텍스트셀을 추가할 수 있습니다.\n",
        "print(f'{num2:10.0f}')\n",
        "print(f'{num3:10.0f}')"
      ]
    },
    {
      "cell_type": "markdown",
      "metadata": {
        "id": "uY774PbTG89i"
      },
      "source": [
        "**질문 3**"
      ]
    },
    {
      "cell_type": "markdown",
      "metadata": {
        "id": "B-W-qmmqG89i"
      },
      "source": [
        "아래 두 개의 부동소수점을 총 15 칸을 차지하도록 f-문자열을 활용하라.\n",
        "또한 소수점 이하 다섯째 자리까지만 출력되록 한다.\n",
        "단 모든 정수는 오른쪽으로 정렬되어야 하며 앞쪽 빈칸은 `+` 기호로 채운다."
      ]
    },
    {
      "cell_type": "code",
      "execution_count": 12,
      "metadata": {
        "id": "eiSdZ1MVG89i"
      },
      "outputs": [],
      "source": [
        "num4 = 887223.8348161\n",
        "num5 = 6833.127230009267"
      ]
    },
    {
      "cell_type": "code",
      "execution_count": 14,
      "metadata": {
        "id": "6vbNZ_I7G89j",
        "outputId": "e5259b2b-4420-428b-ef34-de354085fd91",
        "colab": {
          "base_uri": "https://localhost:8080/"
        }
      },
      "outputs": [
        {
          "output_type": "stream",
          "name": "stdout",
          "text": [
            "   887223.83482\n",
            "     6833.12723\n"
          ]
        }
      ],
      "source": [
        "# 코드를 작성한다.\n",
        "# 필요하면 코드셀 또는 텍스트셀을 추가할 수 있습니다.\n",
        "print(f'{num4:>15.5f}')\n",
        "print(f'{num5:>15.5f}')\n"
      ]
    }
  ],
  "metadata": {
    "colab": {
      "provenance": [],
      "include_colab_link": true
    },
    "kernelspec": {
      "display_name": "Python 3 (ipykernel)",
      "language": "python",
      "name": "python3"
    },
    "language_info": {
      "codemirror_mode": {
        "name": "ipython",
        "version": 3
      },
      "file_extension": ".py",
      "mimetype": "text/x-python",
      "name": "python",
      "nbconvert_exporter": "python",
      "pygments_lexer": "ipython3",
      "version": "3.12.2"
    }
  },
  "nbformat": 4,
  "nbformat_minor": 0
}