{
  "cells": [
    {
      "cell_type": "markdown",
      "metadata": {
        "id": "view-in-github",
        "colab_type": "text"
      },
      "source": [
        "<a href=\"https://colab.research.google.com/github/csjin06/python/blob/main/practices/practice-inputs.ipynb\" target=\"_parent\"><img src=\"https://colab.research.google.com/assets/colab-badge.svg\" alt=\"Open In Colab\"/></a>"
      ]
    },
    {
      "cell_type": "markdown",
      "id": "2d03d247-e2d3-4afe-ab5e-83dc989ed62d",
      "metadata": {
        "id": "2d03d247-e2d3-4afe-ab5e-83dc989ed62d"
      },
      "source": [
        "# (연습) 사용자 입력"
      ]
    },
    {
      "cell_type": "markdown",
      "id": "01c8fab8",
      "metadata": {
        "id": "01c8fab8"
      },
      "source": [
        "**주의 사항**\n",
        "\n",
        "* 기존에 작성된 코드셀/텍스트셀은 수정하지 않는다.\n",
        "* 필요한 경우 코드셀 또는 텍스트셀을 추가할 수 있다."
      ]
    },
    {
      "cell_type": "markdown",
      "id": "2d660583",
      "metadata": {
        "id": "2d660583"
      },
      "source": [
        "**문제 1**"
      ]
    },
    {
      "cell_type": "markdown",
      "id": "5947bed1",
      "metadata": {
        "id": "5947bed1"
      },
      "source": [
        "사용자로부터 입력받은 정수에 대한 3의 배수 여부를 판정하는 코드를 작성하라.\n",
        "단, 3의 배수인 경우와 아닌 경우 각각 다르게 아래 형식으로 출력되도록 한다.\n",
        "\n",
        "    24 은(는) 3의 배수다.\n",
        "    \n",
        "또는\n",
        "\n",
        "    25 은(는) 3으로 나누면 나머지가 1 이다."
      ]
    },
    {
      "cell_type": "code",
      "execution_count": 21,
      "id": "8cda961c",
      "metadata": {
        "id": "8cda961c",
        "outputId": "e189b422-8d32-4fc4-86a4-35817ace06ab",
        "colab": {
          "base_uri": "https://localhost:8080/"
        }
      },
      "outputs": [
        {
          "output_type": "stream",
          "name": "stdout",
          "text": [
            "정수를 입력하시오:26\n",
            "26 은(는) 3으로 나누면 나머지가 2 이다.\n"
          ]
        }
      ],
      "source": [
        "# 코드를 작성한다.\n",
        "# 필요하면 코드셀 또는 텍스트셀을 추가할 수 있습니다.\n",
        "a=int(input(\"정수를 입력하시오:\"))\n",
        "if a%3==0:\n",
        "    print(a,\"은(는) 3의 배수다.\")\n",
        "\n",
        "else:\n",
        "  if a%3==1:\n",
        "    print(a,\"은(는) 3으로 나누면 나머지가 1 이다.\")\n",
        "\n",
        "  else:\n",
        "    if a%3==2:\n",
        "      print(a,\"은(는) 3으로 나누면 나머지가 2 이다.\")\n",
        "\n"
      ]
    },
    {
      "cell_type": "markdown",
      "id": "fdd24fd8",
      "metadata": {
        "id": "fdd24fd8"
      },
      "source": [
        "**문제 2**"
      ]
    },
    {
      "cell_type": "markdown",
      "id": "0ec47e07",
      "metadata": {
        "id": "0ec47e07"
      },
      "source": [
        "입력받은 두 부동소수점의 나눗셈을 아래 지정된 형식으로 출력하는 코드를 작성하라.\n",
        "입력된 값은 각각 변수 `a`와 `b`에 저장한다.\n",
        "예를 들어 3.3과 5.8이 입력되면 아래처럼 화면에 출력한다.\n",
        "또한 계산 결과는 소수점 이하 셋째 자리에서 반올림한다.\n",
        "\n",
        "    3.3 / 5.8 = 0.57"
      ]
    },
    {
      "cell_type": "code",
      "execution_count": 24,
      "id": "b3d4ec13",
      "metadata": {
        "id": "b3d4ec13",
        "outputId": "8febd245-553a-4916-ce72-74b8469d238d",
        "colab": {
          "base_uri": "https://localhost:8080/"
        }
      },
      "outputs": [
        {
          "output_type": "stream",
          "name": "stdout",
          "text": [
            "첫 번째 수를 입력하세요.3.3\n",
            "두 번째 수를 입력하세요.5.8\n",
            "3.3 / 5.8 = 0.57\n"
          ]
        }
      ],
      "source": [
        "# 코드를 작성한다.\n",
        "# 필요하면 코드셀 또는 텍스트셀을 추가할 수 있습니다.\n",
        "a=float(input(\"첫 번째 수를 입력하세요.\"))\n",
        "b=float(input(\"두 번째 수를 입력하세요.\"))\n",
        "print(a,\"/\",b,\"=\",round(a/b,2))\n",
        "\n"
      ]
    },
    {
      "cell_type": "markdown",
      "id": "f7e37b7b",
      "metadata": {
        "id": "f7e37b7b"
      },
      "source": [
        "**문제 3**"
      ]
    },
    {
      "cell_type": "markdown",
      "id": "045f2c80",
      "metadata": {
        "id": "045f2c80"
      },
      "source": [
        "두 개의 부동소수점`x`와 `y`를 입력받아 두 수의\n",
        "조화 평균을 아래 형식으로 출력하는 코드를 작성하라.\n",
        "\n",
        "    2.4 와 5.7 의 조화평균: 3.38\n",
        "\n",
        "단, `x`와 `y`의 조화평균은 다음과 같이 계산하며, 소수점 이하 셋째 자리에서 반올림한다.\n",
        "\n",
        "    2 / (1/x + 1/y)"
      ]
    },
    {
      "cell_type": "code",
      "execution_count": 30,
      "id": "3045af10",
      "metadata": {
        "id": "3045af10",
        "outputId": "2581dd06-99f9-48a7-d332-14648e70652b",
        "colab": {
          "base_uri": "https://localhost:8080/"
        }
      },
      "outputs": [
        {
          "output_type": "stream",
          "name": "stdout",
          "text": [
            "첫 번째 수를 입력하세요.2.4\n",
            "두 번째 수를 입력하세요.5.7\n",
            "2.4 와 5.7 의 조화평균: 3.38\n"
          ]
        }
      ],
      "source": [
        "# 코드를 작성한다.\n",
        "# 필요하면 코드셀 또는 텍스트셀을 추가할 수 있습니다.\n",
        "a=float(input(\"첫 번째 수를 입력하세요.\"))\n",
        "b=float(input(\"두 번째 수를 입력하세요.\"))\n",
        "print(a,\"와\",b,\"의 조화평균:\",round(2/(1/a+1/b),2))\n"
      ]
    },
    {
      "cell_type": "markdown",
      "id": "e4805692",
      "metadata": {
        "id": "e4805692"
      },
      "source": [
        "**문제 4**"
      ]
    },
    {
      "cell_type": "markdown",
      "id": "f4a72767",
      "metadata": {
        "id": "f4a72767"
      },
      "source": [
        "대기실에 `N` 개의 의자가 일렬로 놓여 있다.\n",
        "`N`은 사용자 입력을 통해 지정된 양의 정수다.\n",
        "\n",
        "어느 두 사람도 이웃하여 앉지 않을 때, 앉을 수 있는 최대 인원이 앉는 방식과\n",
        "최소 인원이 앉는 방식을 문자열로 출력하는 코드를 작성한다.\n",
        "단, 자리를 채운 후에는 더 이상 어느 누구도 자리에 앉을 수 없어야 한다.\n",
        "\n",
        "예를 들어 의자가 8개인 경우 아래 방식으로 앉는 것은 허용되지 않는다.\n",
        "아래 표에서 `O`은 채워진 자리를, `X`는 빈자리를 가리킨다.\n",
        "\n",
        "| 불가능 방식 | 이유 |\n",
        "| :---: | :--- |\n",
        "| `XXOXOXOX` | 왼쪽 끝에 한 명 더 앉을 수 있음 |\n",
        "| `XOXXOXXX` | 오른쪽 끝에 한 명 더 앉을 수 있음|\n",
        "\n",
        "의자가 8 개일 때 의자에 앉을 수 있는 최소 인원과 최대 인원은 다음과 같다.\n",
        "\n",
        "| 인원 | 앉는 방식 |\n",
        "| :---: | :---: |\n",
        "| 최소 3명 | `XOXXOXXO` |\n",
        "| 최대 4명 | `OXOXOXOX` |\n",
        "\n",
        "힌트: 2배수와 3배수 여부에 따른 `if ... else ...` 조건문 활용"
      ]
    },
    {
      "cell_type": "code",
      "execution_count": 34,
      "id": "accea396",
      "metadata": {
        "id": "accea396",
        "outputId": "51cb4cdd-41b9-4909-c185-b2a496fe23b4",
        "colab": {
          "base_uri": "https://localhost:8080/"
        }
      },
      "outputs": [
        {
          "output_type": "stream",
          "name": "stdout",
          "text": [
            "의자 수를 입력하세요8\n",
            "최소인원: 3명, 앉는 방식: XOXXOXXO\n",
            "최대인원: 4명, 앉는 방식: OXOXOXOX\n"
          ]
        }
      ],
      "source": [
        "# 코드를 작성한다.\n",
        "# 필요하면 코드셀 또는 텍스트셀을 추가할 수 있습니다.\n",
        "n=int(input(\"의자 수를 입력하세요\"))\n",
        "if n%2 == 0 and n%3 == 0:\n",
        "  a=n/2\n",
        "  b=n/3\n",
        "elif n%2 == 0:\n",
        "  a=n/2\n",
        "  b=(n//3)+1\n",
        "elif n%3 == 0:\n",
        "  a=(n//2)+1\n",
        "  b=n/3\n",
        "else:\n",
        "  a=(n//2)+1\n",
        "  b=(n//3)+1\n",
        "a=int(a)\n",
        "\n",
        "def joat(n):\n",
        "    return \"OX\" * (n // 2) + (\"O\" if n % 2 else \"\")\n",
        "\n",
        "def goat(n):\n",
        "    pattern = \"XOX\" * (n // 3)\n",
        "    remainder = n % 3\n",
        "    if remainder == 1:\n",
        "        pattern += \"O\"\n",
        "    elif remainder == 2:\n",
        "        pattern += \"XO\"\n",
        "    return pattern\n",
        "\n",
        "\n",
        "num = int(n)\n",
        "c=joat(num)\n",
        "d=goat(num)\n",
        "print(f\"최소인원: {b}명, 앉는 방식: {d}\")\n",
        "print(f\"최대인원: {a}명, 앉는 방식: {c}\")\n",
        "\n",
        "\n"
      ]
    }
  ],
  "metadata": {
    "kernelspec": {
      "display_name": "Python 3 (ipykernel)",
      "language": "python",
      "name": "python3"
    },
    "language_info": {
      "codemirror_mode": {
        "name": "ipython",
        "version": 3
      },
      "file_extension": ".py",
      "mimetype": "text/x-python",
      "name": "python",
      "nbconvert_exporter": "python",
      "pygments_lexer": "ipython3",
      "version": "3.12.7"
    },
    "toc-autonumbering": true,
    "toc-showcode": false,
    "toc-showmarkdowntxt": false,
    "colab": {
      "provenance": [],
      "include_colab_link": true
    }
  },
  "nbformat": 4,
  "nbformat_minor": 5
}