{
  "cells": [
    {
      "cell_type": "markdown",
      "metadata": {
        "id": "QEdZHYB61rKR"
      },
      "source": [
        "# (연습) 프로그래밍 맛보기"
      ]
    },
    {
      "cell_type": "markdown",
      "metadata": {
        "id": "MgBCG_zE0A9f"
      },
      "source": [
        "**주의 사항**\n",
        "\n",
        "* 기존에 작성된 코드 셀과 텍스트 셀은 수정하지 않는다.\n",
        "* 필요한 경우 코드 셀 또는 텍스트 셀을 추가해서 사용한다.\n",
        "* 실습 파일을 제출할 때 구글 드라이브의 링크를 이용하여 누구나 공유할 수 있도록 설정한다."
      ]
    },
    {
      "cell_type": "markdown",
      "metadata": {
        "id": "YXsiChGM1rKT"
      },
      "source": [
        "**문제 1**"
      ]
    },
    {
      "cell_type": "markdown",
      "metadata": {
        "id": "XgWOeMtC1rKT"
      },
      "source": [
        "아래 명령문들을 실행해서 오류가 발생하는 경우 오류의 종류와 원인을 설명하고 수정하라.\n",
        "오류가 발생하지 않으면 실행 결과를 설명한다."
      ]
    },
    {
      "cell_type": "markdown",
      "metadata": {
        "id": "8qu0Ij_21rKT"
      },
      "source": [
        "(1)"
      ]
    },
    {
      "cell_type": "code",
      "execution_count": 29,
      "metadata": {
        "id": "T5GE5w6p1rKT",
        "outputId": "d64fa13a-ef2f-435b-e7d7-bfdea9fded90",
        "colab": {
          "base_uri": "https://localhost:8080/"
        }
      },
      "outputs": [
        {
          "output_type": "stream",
          "name": "stdout",
          "text": [
            "Hello World\n"
          ]
        }
      ],
      "source": [
        "print(\"Hello World\")"
      ]
    },
    {
      "cell_type": "code",
      "execution_count": 38,
      "metadata": {
        "id": "rq6INOM31rKU",
        "outputId": "e3dadd37-f9ff-4a5b-877b-89db6c940f41",
        "colab": {
          "base_uri": "https://localhost:8080/"
        }
      },
      "outputs": [
        {
          "output_type": "stream",
          "name": "stdout",
          "text": [
            "Hello World\n"
          ]
        }
      ],
      "source": [
        "# 코드를 작성한다.\n",
        "print(\"Hello World\")"
      ]
    },
    {
      "cell_type": "markdown",
      "metadata": {
        "id": "tgkksX161rKU"
      },
      "source": [
        "(2)"
      ]
    },
    {
      "cell_type": "code",
      "execution_count": 9,
      "metadata": {
        "id": "FD1nkPjG1rKU",
        "outputId": "251bed92-2966-40a8-9ffa-ea25e636ec2b",
        "colab": {
          "base_uri": "https://localhost:8080/",
          "height": 106
        }
      },
      "outputs": [
        {
          "output_type": "error",
          "ename": "SyntaxError",
          "evalue": "invalid syntax. Perhaps you forgot a comma? (<ipython-input-9-cdfda1e99280>, line 1)",
          "traceback": [
            "\u001b[0;36m  File \u001b[0;32m\"<ipython-input-9-cdfda1e99280>\"\u001b[0;36m, line \u001b[0;32m1\u001b[0m\n\u001b[0;31m    print(21 8)\u001b[0m\n\u001b[0m          ^\u001b[0m\n\u001b[0;31mSyntaxError\u001b[0m\u001b[0;31m:\u001b[0m invalid syntax. Perhaps you forgot a comma?\n"
          ]
        }
      ],
      "source": [
        "print(21 8)"
      ]
    },
    {
      "cell_type": "code",
      "execution_count": 10,
      "metadata": {
        "id": "LctBmj7r1rKV",
        "outputId": "35b9f49e-b3f7-4add-dd14-ea0b7ef40389",
        "colab": {
          "base_uri": "https://localhost:8080/"
        }
      },
      "outputs": [
        {
          "output_type": "stream",
          "name": "stdout",
          "text": [
            "21 8\n"
          ]
        }
      ],
      "source": [
        "# 코드를 작성한다.\n",
        "print(21, 8)"
      ]
    },
    {
      "cell_type": "markdown",
      "metadata": {
        "id": "AZyVM9411rKV"
      },
      "source": [
        "(3)"
      ]
    },
    {
      "cell_type": "code",
      "execution_count": 11,
      "metadata": {
        "id": "4J7JfvHD1rKV",
        "outputId": "6a66affa-8fca-447a-f303-1a9ab29f218e",
        "colab": {
          "base_uri": "https://localhost:8080/"
        }
      },
      "outputs": [
        {
          "output_type": "stream",
          "name": "stdout",
          "text": [
            "4\n"
          ]
        }
      ],
      "source": [
        "print(2++2)"
      ]
    },
    {
      "cell_type": "code",
      "execution_count": null,
      "metadata": {
        "id": "mzvVYlrc1rKV"
      },
      "outputs": [],
      "source": [
        "# 코드를 작성한다.\n"
      ]
    },
    {
      "cell_type": "markdown",
      "metadata": {
        "id": "WT4LXoYS1rKV"
      },
      "source": [
        "**문제 2**"
      ]
    },
    {
      "cell_type": "markdown",
      "metadata": {
        "id": "pLYF5Exs1rKV"
      },
      "source": [
        "변수 할당 명령문과 관련하여 주의해야할 점들을 다룬다. 아래 명령문들을 실행해서 오류가 발생하는 경우 오류의 종류와 원인을 설명하고 수정한다."
      ]
    },
    {
      "cell_type": "markdown",
      "metadata": {
        "id": "IMBeNIdf1rKV"
      },
      "source": [
        "(1)"
      ]
    },
    {
      "cell_type": "code",
      "execution_count": 36,
      "metadata": {
        "id": "1W3gpQqH1rKV"
      },
      "outputs": [],
      "source": [
        "x = 2;"
      ]
    },
    {
      "cell_type": "code",
      "execution_count": 37,
      "metadata": {
        "id": "Yt0AdvLZ1rKV"
      },
      "outputs": [],
      "source": [
        "# 코드를 작성한다.\n",
        "x=2"
      ]
    },
    {
      "cell_type": "markdown",
      "metadata": {
        "id": "cIjGgidD1rKV"
      },
      "source": [
        "(2)"
      ]
    },
    {
      "cell_type": "code",
      "execution_count": 16,
      "metadata": {
        "id": "vllhzthf1rKW",
        "outputId": "35c80470-c7e0-4c1c-b1e5-578dd75683c8",
        "colab": {
          "base_uri": "https://localhost:8080/",
          "height": 141
        }
      },
      "outputs": [
        {
          "output_type": "error",
          "ename": "NameError",
          "evalue": "name 'y' is not defined",
          "traceback": [
            "\u001b[0;31m---------------------------------------------------------------------------\u001b[0m",
            "\u001b[0;31mNameError\u001b[0m                                 Traceback (most recent call last)",
            "\u001b[0;32m<ipython-input-16-93082f23b3db>\u001b[0m in \u001b[0;36m<cell line: 0>\u001b[0;34m()\u001b[0m\n\u001b[0;32m----> 1\u001b[0;31m \u001b[0mz\u001b[0m \u001b[0;34m=\u001b[0m \u001b[0mx\u001b[0m \u001b[0;34m*\u001b[0m \u001b[0my\u001b[0m\u001b[0;34m\u001b[0m\u001b[0;34m\u001b[0m\u001b[0m\n\u001b[0m",
            "\u001b[0;31mNameError\u001b[0m: name 'y' is not defined"
          ]
        }
      ],
      "source": [
        "z = x y"
      ]
    },
    {
      "cell_type": "code",
      "execution_count": 35,
      "metadata": {
        "id": "SZdAyKI_1rKW",
        "outputId": "711139cf-dbb6-4a7d-cdd8-cbc75949c224",
        "colab": {
          "base_uri": "https://localhost:8080/"
        }
      },
      "outputs": [
        {
          "output_type": "stream",
          "name": "stdout",
          "text": [
            "9\n"
          ]
        }
      ],
      "source": [
        "# 코드를 작성한다.\n",
        "x=3\n",
        "y=3\n",
        "z=x*y\n",
        "print(z)"
      ]
    },
    {
      "cell_type": "markdown",
      "metadata": {
        "id": "lbsYW8Fa1rKW"
      },
      "source": [
        "(3)"
      ]
    },
    {
      "cell_type": "code",
      "execution_count": 33,
      "metadata": {
        "id": "D6Uxw-3-1rKW",
        "outputId": "409b4609-ef22-47fb-88bc-a37cced8cf9f",
        "colab": {
          "base_uri": "https://localhost:8080/",
          "height": 176
        }
      },
      "outputs": [
        {
          "output_type": "error",
          "ename": "NameError",
          "evalue": "name 'oddd' is not defined",
          "traceback": [
            "\u001b[0;31m---------------------------------------------------------------------------\u001b[0m",
            "\u001b[0;31mNameError\u001b[0m                                 Traceback (most recent call last)",
            "\u001b[0;32m<ipython-input-33-3bd68f120562>\u001b[0m in \u001b[0;36m<cell line: 0>\u001b[0;34m()\u001b[0m\n\u001b[1;32m      1\u001b[0m \u001b[0meven\u001b[0m \u001b[0;34m=\u001b[0m \u001b[0;36m3\u001b[0m\u001b[0;34m\u001b[0m\u001b[0;34m\u001b[0m\u001b[0m\n\u001b[1;32m      2\u001b[0m \u001b[0modd\u001b[0m \u001b[0;34m=\u001b[0m \u001b[0;36m17\u001b[0m\u001b[0;34m\u001b[0m\u001b[0;34m\u001b[0m\u001b[0m\n\u001b[0;32m----> 3\u001b[0;31m \u001b[0mprint\u001b[0m\u001b[0;34m(\u001b[0m\u001b[0meven\u001b[0m \u001b[0;34m+\u001b[0m \u001b[0moddd\u001b[0m\u001b[0;34m)\u001b[0m\u001b[0;34m\u001b[0m\u001b[0;34m\u001b[0m\u001b[0m\n\u001b[0m",
            "\u001b[0;31mNameError\u001b[0m: name 'oddd' is not defined"
          ]
        }
      ],
      "source": [
        "even = 3\n",
        "odd = 17\n",
        "print(even + oddd)"
      ]
    },
    {
      "cell_type": "code",
      "execution_count": 34,
      "metadata": {
        "id": "MuGWcFuz1rKW",
        "outputId": "b3a05f5e-5e11-4396-ba44-d4ce9d2c6db1",
        "colab": {
          "base_uri": "https://localhost:8080/"
        }
      },
      "outputs": [
        {
          "output_type": "stream",
          "name": "stdout",
          "text": [
            "20\n"
          ]
        }
      ],
      "source": [
        "# 코드를 작성한다.\n",
        "even = 3\n",
        "odd = 17\n",
        "print(even + odd)"
      ]
    },
    {
      "cell_type": "markdown",
      "metadata": {
        "id": "r6GTVrpH1rKW"
      },
      "source": [
        "(4)"
      ]
    },
    {
      "cell_type": "code",
      "execution_count": 18,
      "metadata": {
        "id": "6dZSja2H1rKW",
        "outputId": "43c482d0-4bf5-4dd1-934a-1754e605b2c8",
        "colab": {
          "base_uri": "https://localhost:8080/",
          "height": 176
        }
      },
      "outputs": [
        {
          "output_type": "error",
          "ename": "ZeroDivisionError",
          "evalue": "division by zero",
          "traceback": [
            "\u001b[0;31m---------------------------------------------------------------------------\u001b[0m",
            "\u001b[0;31mZeroDivisionError\u001b[0m                         Traceback (most recent call last)",
            "\u001b[0;32m<ipython-input-18-13d8b99cd052>\u001b[0m in \u001b[0;36m<cell line: 0>\u001b[0;34m()\u001b[0m\n\u001b[1;32m      2\u001b[0m \u001b[0mzero\u001b[0m \u001b[0;34m=\u001b[0m \u001b[0;36m0\u001b[0m\u001b[0;34m\u001b[0m\u001b[0;34m\u001b[0m\u001b[0m\n\u001b[1;32m      3\u001b[0m \u001b[0;34m\u001b[0m\u001b[0m\n\u001b[0;32m----> 4\u001b[0;31m \u001b[0mprint\u001b[0m\u001b[0;34m(\u001b[0m\u001b[0mx\u001b[0m\u001b[0;34m/\u001b[0m\u001b[0mzero\u001b[0m\u001b[0;34m)\u001b[0m\u001b[0;34m\u001b[0m\u001b[0;34m\u001b[0m\u001b[0m\n\u001b[0m",
            "\u001b[0;31mZeroDivisionError\u001b[0m: division by zero"
          ]
        }
      ],
      "source": [
        "x = 3\n",
        "zero = 0\n",
        "\n",
        "print(x/zero)"
      ]
    },
    {
      "cell_type": "code",
      "execution_count": 32,
      "metadata": {
        "id": "CxaWK8Uw1rKW",
        "outputId": "f68a9065-ed4d-4bc7-b7ff-ef42d15b1e0e",
        "colab": {
          "base_uri": "https://localhost:8080/"
        }
      },
      "outputs": [
        {
          "output_type": "stream",
          "name": "stdout",
          "text": [
            "1.0\n"
          ]
        }
      ],
      "source": [
        "# 코드를 작성한다.\n",
        "x=3\n",
        "zero=3\n",
        "\n",
        "print(x/zero)\n"
      ]
    },
    {
      "cell_type": "markdown",
      "metadata": {
        "id": "_w34S-_I1rKW"
      },
      "source": [
        "**문제 3**"
      ]
    },
    {
      "cell_type": "markdown",
      "metadata": {
        "id": "rqVb93mg1rKW"
      },
      "source": [
        "언급된 값을 표현하는 수식을 표현한 다음에 실행하라."
      ]
    },
    {
      "cell_type": "markdown",
      "metadata": {
        "id": "ILJAfidr1rKW"
      },
      "source": [
        "(1) 정수 13에서 정수 19 빼기"
      ]
    },
    {
      "cell_type": "markdown",
      "metadata": {
        "id": "52MV3fyY1rKW"
      },
      "source": [
        "힌트: 뺄셈 연산자를 활용한다."
      ]
    },
    {
      "cell_type": "code",
      "execution_count": 19,
      "metadata": {
        "id": "fnjT50H01rKW",
        "outputId": "ef613632-d41a-41d1-9467-a731a2b4b1ee",
        "colab": {
          "base_uri": "https://localhost:8080/"
        }
      },
      "outputs": [
        {
          "output_type": "execute_result",
          "data": {
            "text/plain": [
              "-6"
            ]
          },
          "metadata": {},
          "execution_count": 19
        }
      ],
      "source": [
        "# 코드를 작성한다.\n",
        "13-19"
      ]
    },
    {
      "cell_type": "markdown",
      "metadata": {
        "id": "YltOf11q1rKW"
      },
      "source": [
        "(2) 정수 81을 정수 3으로 나누기"
      ]
    },
    {
      "cell_type": "markdown",
      "metadata": {
        "id": "jeIRpGBg1rKW"
      },
      "source": [
        "힌트: 나눗셈 연산자를 활용한다."
      ]
    },
    {
      "cell_type": "code",
      "execution_count": 21,
      "metadata": {
        "id": "AZz1-gox1rKW",
        "outputId": "76da5c32-6d44-4c00-d517-d3b8670f8180",
        "colab": {
          "base_uri": "https://localhost:8080/"
        }
      },
      "outputs": [
        {
          "output_type": "execute_result",
          "data": {
            "text/plain": [
              "27.0"
            ]
          },
          "metadata": {},
          "execution_count": 21
        }
      ],
      "source": [
        "# 코드를 작성한다.\n",
        "81/3"
      ]
    },
    {
      "cell_type": "markdown",
      "metadata": {
        "id": "0IuTSvnE1rKW"
      },
      "source": [
        "(3) 정수 100을 정수 7로 나눈 나머지"
      ]
    },
    {
      "cell_type": "markdown",
      "metadata": {
        "id": "kdAXUR2i1rKX"
      },
      "source": [
        "힌트: 나머지 연산자를 활용한다."
      ]
    },
    {
      "cell_type": "code",
      "execution_count": 22,
      "metadata": {
        "id": "2VxjJc8U1rKX",
        "outputId": "95d5d2ce-6608-43f2-c4bd-b66a39711bdb",
        "colab": {
          "base_uri": "https://localhost:8080/"
        }
      },
      "outputs": [
        {
          "output_type": "execute_result",
          "data": {
            "text/plain": [
              "2"
            ]
          },
          "metadata": {},
          "execution_count": 22
        }
      ],
      "source": [
        "# 코드를 작성한다.\n",
        "100%7"
      ]
    },
    {
      "cell_type": "markdown",
      "metadata": {
        "id": "PUm1ap4W1rKX"
      },
      "source": [
        "(4) 정수 7.2의 세제곱"
      ]
    },
    {
      "cell_type": "markdown",
      "metadata": {
        "id": "I2X1xTpn1rKa"
      },
      "source": [
        "힌트: 거듭제곱 연산자를 활용한다."
      ]
    },
    {
      "cell_type": "code",
      "execution_count": 23,
      "metadata": {
        "id": "YcpM5oai1rKa",
        "outputId": "afa9237f-5ab1-4905-9648-b35d9205bb1c",
        "colab": {
          "base_uri": "https://localhost:8080/"
        }
      },
      "outputs": [
        {
          "output_type": "execute_result",
          "data": {
            "text/plain": [
              "373.24800000000005"
            ]
          },
          "metadata": {},
          "execution_count": 23
        }
      ],
      "source": [
        "# 코드를 작성한다.\n",
        "7.2**3"
      ]
    },
    {
      "cell_type": "markdown",
      "metadata": {
        "id": "inNv2ra_1rKa"
      },
      "source": [
        "**문제 4**"
      ]
    },
    {
      "cell_type": "markdown",
      "metadata": {
        "id": "3TtS14b01rKa"
      },
      "source": [
        "먼저 아래와 같이 두 개의 변수를 선언한다."
      ]
    },
    {
      "cell_type": "code",
      "execution_count": null,
      "metadata": {
        "id": "xoqlJWWe1rKa"
      },
      "outputs": [],
      "source": [
        "width = 17\n",
        "height = 12.0"
      ]
    },
    {
      "cell_type": "markdown",
      "metadata": {
        "id": "U-hHqEam1rKa"
      },
      "source": [
        "언급된 값을 표현하는 수식을 두 변수를 이용하여 표현한 다음에 실행하여라."
      ]
    },
    {
      "cell_type": "markdown",
      "metadata": {
        "id": "An2s0csM1rKa"
      },
      "source": [
        "(1) width를 2로 나눗 몫"
      ]
    },
    {
      "cell_type": "code",
      "execution_count": 25,
      "metadata": {
        "id": "IVA4UMKM1rKa",
        "outputId": "45023c72-3142-45a1-8bda-32b40ee35531",
        "colab": {
          "base_uri": "https://localhost:8080/"
        }
      },
      "outputs": [
        {
          "output_type": "execute_result",
          "data": {
            "text/plain": [
              "8"
            ]
          },
          "metadata": {},
          "execution_count": 25
        }
      ],
      "source": [
        "# 코드를 작성한다.\n",
        "width = 17\n",
        "width//2"
      ]
    },
    {
      "cell_type": "markdown",
      "metadata": {
        "id": "4_G-M_T61rKb"
      },
      "source": [
        "(2) width 나누기 2"
      ]
    },
    {
      "cell_type": "code",
      "execution_count": null,
      "metadata": {
        "id": "qJxGFxij1rKb"
      },
      "outputs": [],
      "source": [
        "# 코드를 작성한다.\n"
      ]
    },
    {
      "cell_type": "markdown",
      "metadata": {
        "id": "5L0pWHI11rKb"
      },
      "source": [
        "(3) width 나누기 2.0"
      ]
    },
    {
      "cell_type": "code",
      "execution_count": 26,
      "metadata": {
        "id": "AEacvWIA1rKb",
        "outputId": "4cad6f62-3bd0-4ae2-b1de-f0b0e0e6fbdd",
        "colab": {
          "base_uri": "https://localhost:8080/"
        }
      },
      "outputs": [
        {
          "output_type": "execute_result",
          "data": {
            "text/plain": [
              "8.5"
            ]
          },
          "metadata": {},
          "execution_count": 26
        }
      ],
      "source": [
        "# 코드를 작성한다.\n",
        "width = 17\n",
        "width/2.0"
      ]
    },
    {
      "cell_type": "markdown",
      "metadata": {
        "id": "4IrQll2C1rKb"
      },
      "source": [
        "(4) height 나누기 3"
      ]
    },
    {
      "cell_type": "code",
      "execution_count": 31,
      "metadata": {
        "id": "-a8f1cm61rKb",
        "outputId": "a2af67a9-38e9-4286-ba1a-a46c108cbf10",
        "colab": {
          "base_uri": "https://localhost:8080/"
        }
      },
      "outputs": [
        {
          "output_type": "execute_result",
          "data": {
            "text/plain": [
              "4.0"
            ]
          },
          "metadata": {},
          "execution_count": 31
        }
      ],
      "source": [
        "# 코드를 작성한다.\n",
        "height=12.0\n",
        "height/3"
      ]
    },
    {
      "cell_type": "markdown",
      "metadata": {
        "id": "AfcNpdeg1rKb"
      },
      "source": [
        "(5) 2 곱하기 5에 1 더하기"
      ]
    },
    {
      "cell_type": "code",
      "execution_count": 27,
      "metadata": {
        "id": "1fIR0YuZ1rKb",
        "outputId": "f167c2b6-6077-4685-e4b9-da33c48f7145",
        "colab": {
          "base_uri": "https://localhost:8080/"
        }
      },
      "outputs": [
        {
          "output_type": "execute_result",
          "data": {
            "text/plain": [
              "11"
            ]
          },
          "metadata": {},
          "execution_count": 27
        }
      ],
      "source": [
        "# 코드를 작성한다.\n",
        "2*5+1"
      ]
    },
    {
      "cell_type": "markdown",
      "metadata": {
        "id": "AofZaWEZ1rKb"
      },
      "source": [
        "(6) 2 곱하기 5에 1.0 더하기"
      ]
    },
    {
      "cell_type": "code",
      "execution_count": 28,
      "metadata": {
        "id": "YHHX149w1rKb",
        "outputId": "519b3771-9aca-487d-f4ac-78e27f42c4d5",
        "colab": {
          "base_uri": "https://localhost:8080/"
        }
      },
      "outputs": [
        {
          "output_type": "execute_result",
          "data": {
            "text/plain": [
              "11.0"
            ]
          },
          "metadata": {},
          "execution_count": 28
        }
      ],
      "source": [
        "# 코드를 작성한다.\n",
        "2*5+1.0"
      ]
    },
    {
      "cell_type": "markdown",
      "metadata": {
        "id": "Uojnr8IU1rKb"
      },
      "source": [
        "**문제 5**"
      ]
    },
    {
      "cell_type": "markdown",
      "metadata": {
        "id": "_4dbNkG31rKb"
      },
      "source": [
        "오전 6시 52분에 집을 떠나서, 가볍게 (km당 8분 15초 소요) 1km를 뛰고,\n",
        "이어서 좀 빠르게 (km당 7분 12초 소요) 3km를 뛴 후, 다시 가볍게 1km를 마저 달려 집으로 돌아오면\n",
        "집에 도착하는 시간을 계산하여 아래처럼 출력하는 코드를 작성하라.\n",
        "\n",
        "    집에 도착 시간: 7 시 30 분 6 초\n",
        "\n",
        "힌트: 정수 나눗셈의 몫과 나머지 연산자 활용"
      ]
    },
    {
      "cell_type": "code",
      "execution_count": null,
      "metadata": {
        "id": "2gDP7TJP1rKb"
      },
      "outputs": [],
      "source": [
        "# 코드를 작성한다.\n"
      ]
    }
  ],
  "metadata": {
    "colab": {
      "name": "practice-starting.ipynb",
      "provenance": []
    },
    "kernelspec": {
      "display_name": "Python 3 (ipykernel)",
      "language": "python",
      "name": "python3"
    },
    "language_info": {
      "codemirror_mode": {
        "name": "ipython",
        "version": 3
      },
      "file_extension": ".py",
      "mimetype": "text/x-python",
      "name": "python",
      "nbconvert_exporter": "python",
      "pygments_lexer": "ipython3",
      "version": "3.12.7"
    }
  },
  "nbformat": 4,
  "nbformat_minor": 0
}