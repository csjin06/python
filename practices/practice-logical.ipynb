{
  "cells": [
    {
      "cell_type": "markdown",
      "metadata": {
        "id": "view-in-github",
        "colab_type": "text"
      },
      "source": [
        "<a href=\"https://colab.research.google.com/github/csjin06/python/blob/main/practices/practice-logical.ipynb\" target=\"_parent\"><img src=\"https://colab.research.google.com/assets/colab-badge.svg\" alt=\"Open In Colab\"/></a>"
      ]
    },
    {
      "cell_type": "markdown",
      "id": "4355d4f8",
      "metadata": {
        "id": "4355d4f8"
      },
      "source": [
        "# (연습) 논리 연산"
      ]
    },
    {
      "cell_type": "markdown",
      "id": "a0a20bd6",
      "metadata": {
        "id": "a0a20bd6"
      },
      "source": [
        "**주의 사항**\n",
        "\n",
        "* 기존에 작성된 코드 셀과 텍스트 셀은 수정하지 않는다.\n",
        "* 필요한 경우 코드 셀 또는 텍스트 셀을 추가해서 사용한다."
      ]
    },
    {
      "cell_type": "markdown",
      "id": "18234a4f",
      "metadata": {
        "id": "18234a4f"
      },
      "source": [
        "**문제 1**"
      ]
    },
    {
      "cell_type": "markdown",
      "id": "801bb908",
      "metadata": {
        "id": "801bb908"
      },
      "source": [
        "아래 두 논리식이 서로 다른 값을 갖도록 하는 정수 a, b, c, d를 정하라.\n",
        "\n",
        "```python\n",
        "a > b and b > c or c < d          a > b and (b > c or c < d)\n",
        "```"
      ]
    },
    {
      "cell_type": "code",
      "execution_count": 6,
      "id": "95d6ea23",
      "metadata": {
        "id": "95d6ea23",
        "outputId": "d626a117-4d47-4923-f021-a47ec97771fe",
        "colab": {
          "base_uri": "https://localhost:8080/"
        }
      },
      "outputs": [
        {
          "output_type": "execute_result",
          "data": {
            "text/plain": [
              "(True, False)"
            ]
          },
          "metadata": {},
          "execution_count": 6
        }
      ],
      "source": [
        "# 코드를 작성한다.\n",
        "# 필요하면 코드셀 또는 텍스트셀을 추가할 수 있습니다.\n",
        "a = 1\n",
        "b = 2\n",
        "c = 4\n",
        "d = 6\n",
        "a > b and b > c or c < d, a > b and (b > c or c < d)\n"
      ]
    },
    {
      "cell_type": "markdown",
      "id": "3f4dfb1a",
      "metadata": {
        "id": "3f4dfb1a"
      },
      "source": [
        "**문제 2**"
      ]
    },
    {
      "cell_type": "markdown",
      "id": "335c7c2a",
      "metadata": {
        "id": "335c7c2a"
      },
      "source": [
        "두 개의 양의 정수를 입력 받아 두 정수가 다른지 여부를 코드를 구현하라.\n",
        "단, 두 개의 값이 다를 때 참이라는 논리식을 이용해야 한다.\n",
        "또한 첫째 입력값은 변수 `x`에,\n",
        "둘째 입력값은 변수 `y`에 할당한다.\n",
        "최종적으로 결과에 따라 두 값이 다른지 여부를 확인하는 문장을 출력한다."
      ]
    },
    {
      "cell_type": "code",
      "execution_count": 8,
      "id": "bbe4d990",
      "metadata": {
        "id": "bbe4d990",
        "outputId": "5e97d530-2cbb-4d1e-8c35-44c4e6774ec3",
        "colab": {
          "base_uri": "https://localhost:8080/"
        }
      },
      "outputs": [
        {
          "output_type": "stream",
          "name": "stdout",
          "text": [
            "첫번째 정수 입력: 3\n",
            "두번째 정수 입력: 2\n",
            "두 정수는 다른 수 이다.\n"
          ]
        }
      ],
      "source": [
        "# 코드를 작성한다.\n",
        "# 필요하면 코드셀 또는 텍스트셀을 추가할 수 있습니다.\n",
        "x= int(input(\"첫번째 정수 입력: \"))\n",
        "\n",
        "y= int(input(\"두번째 정수 입력: \"))\n",
        "\n",
        "if x == y:\n",
        "  print(\"두 정수는 같은 수 이다.\")\n",
        "\n",
        "else:\n",
        "  print(\"두 정수는 다른 수 이다.\")\n"
      ]
    },
    {
      "cell_type": "markdown",
      "id": "ef667963",
      "metadata": {
        "id": "ef667963"
      },
      "source": [
        "**문제 3**"
      ]
    },
    {
      "cell_type": "markdown",
      "id": "1733ffc8",
      "metadata": {
        "id": "1733ffc8"
      },
      "source": [
        "아래 코드가 실행중에 오류를 발생시키는 이유를 설명하라."
      ]
    },
    {
      "cell_type": "code",
      "execution_count": 27,
      "id": "5db9483e",
      "metadata": {
        "id": "5db9483e",
        "outputId": "c701c0b9-069f-4163-df20-823de7ee9540",
        "colab": {
          "base_uri": "https://localhost:8080/",
          "height": 158
        }
      },
      "outputs": [
        {
          "output_type": "error",
          "ename": "ZeroDivisionError",
          "evalue": "division by zero",
          "traceback": [
            "\u001b[0;31m---------------------------------------------------------------------------\u001b[0m",
            "\u001b[0;31mZeroDivisionError\u001b[0m                         Traceback (most recent call last)",
            "\u001b[0;32m<ipython-input-27-34384b86f1cb>\u001b[0m in \u001b[0;36m<cell line: 0>\u001b[0;34m()\u001b[0m\n\u001b[0;32m----> 1\u001b[0;31m \u001b[0;32mif\u001b[0m \u001b[0;32mTrue\u001b[0m \u001b[0;32mand\u001b[0m \u001b[0;36m3\u001b[0m\u001b[0;34m/\u001b[0m\u001b[0;36m0\u001b[0m\u001b[0;34m:\u001b[0m\u001b[0;34m\u001b[0m\u001b[0;34m\u001b[0m\u001b[0m\n\u001b[0m\u001b[1;32m      2\u001b[0m     \u001b[0mprint\u001b[0m\u001b[0;34m(\u001b[0m\u001b[0;34m\"B\"\u001b[0m\u001b[0;34m)\u001b[0m\u001b[0;34m\u001b[0m\u001b[0;34m\u001b[0m\u001b[0m\n",
            "\u001b[0;31mZeroDivisionError\u001b[0m: division by zero"
          ]
        }
      ],
      "source": [
        "if True and 3/0:\n",
        "    print(\"B\")"
      ]
    },
    {
      "cell_type": "markdown",
      "id": "f3d7f5d2",
      "metadata": {
        "id": "f3d7f5d2"
      },
      "source": [
        "*실행 결과 설명*\n",
        "and 연산자는 앞 뒤 모두 참이여야 한다. True는 이미 참이기 때문에 다음 계산을  계속 이어가야한다. 3/0 은 분모가 0이기 때문에 계산이 불가능하여 오류가 발생하는 것이다.\n",
        "\n",
        "..."
      ]
    },
    {
      "cell_type": "markdown",
      "id": "75fd1c76",
      "metadata": {
        "id": "75fd1c76"
      },
      "source": [
        "**문제 4**"
      ]
    },
    {
      "cell_type": "markdown",
      "id": "094e4e56",
      "metadata": {
        "id": "094e4e56"
      },
      "source": [
        "사용자로부터 키(cm 단위)와 몸무게(kg 단위)를 입력받아 체질량지수(BMI)를 구하는 코드를 작성하여라.\n",
        "\n",
        "```\n",
        "BMI = 몸무게 / (키 * 0.01)**2\n",
        "```\n",
        "\n",
        "또한 BMI 수치에 따른 체중 분류는 다음과 같다.\n",
        "\n",
        "| BMI 수치 | 체중 분류 |\n",
        "| :--- | :--- |\n",
        "| BMI <= 18.5 | 저체중 |\n",
        "| 18.5 < BMI <= 23 | 정상 |\n",
        "| 23 < BMI <= 25 | 과체중 |\n",
        "| 25 < BMI <= 30 | 비만 |\n",
        "| BMI > 30 | 고도비만 |\n",
        "\n",
        "또한 BMI 결과에 따라 아래 다섯 개의 문장 중에 하나가 출력되어야 한다.\n",
        "\n",
        "```\n",
        "\"BMI는 저체중입니다.\n",
        "\"BMI는 정상 수치입니다.\n",
        "\"BMI는 과체중입니다.\n",
        "\"BMI는 비만입니다.\n",
        "\"BMI는 고도 비만입니다.\n",
        "```"
      ]
    },
    {
      "cell_type": "code",
      "execution_count": 10,
      "id": "926260b9",
      "metadata": {
        "id": "926260b9",
        "outputId": "335923f3-06a4-46e6-f775-ec10ee1e6223",
        "colab": {
          "base_uri": "https://localhost:8080/"
        }
      },
      "outputs": [
        {
          "output_type": "stream",
          "name": "stdout",
          "text": [
            "키를 cm 단위로 입력하세요: 175\n",
            "몸무게를 kg 단위로 입력하세요: 80\n",
            "BMI는 비만입니다.\n"
          ]
        }
      ],
      "source": [
        "# 코드를 작성한다.\n",
        "# 필요하면 코드셀 또는 텍스트셀을 추가할 수 있습니다.\n",
        "a= float(input(\"키를 cm 단위로 입력하세요: \"))\n",
        "b= float(input(\"몸무게를 kg 단위로 입력하세요: \"))\n",
        "c= b/(a*0.01)**2\n",
        "if c <= 18.5:\n",
        "  print(\"BMI는 저체중입니다.\")\n",
        "elif 18.5 < c <= 23:\n",
        "  print(\"BMI는 정상 수치입니다.\")\n",
        "elif 23 < c <= 25:\n",
        "  print(\"BMI는 과체중입니다.\")\n",
        "elif 25 < c <= 30:\n",
        "  print(\"BMI는 비만입니다.\")\n",
        "else:\n",
        "  print(\"BMI는 고도 비만입니다.\")\n"
      ]
    },
    {
      "cell_type": "markdown",
      "id": "dc957fea",
      "metadata": {
        "id": "dc957fea"
      },
      "source": [
        "**문제 5**"
      ]
    },
    {
      "cell_type": "markdown",
      "id": "5b4aa34a",
      "metadata": {
        "id": "5b4aa34a"
      },
      "source": [
        "연도 `year`의 윤년 여부는 아래 기준에 따라 판단된다.\n",
        "\n",
        "- 4의 배수인 경우 윤년,\n",
        "- 하지만 100의 배수인 경우는 평년,\n",
        "- 그래도 400의 배수인 경우는 무조건 윤년!\n",
        "\n",
        "위 기준을 하나의 논리식으로 표현하여 `year`가 윤년인지 여부를 판단하라.\n",
        "\n",
        "단, `and`, `or`, `not` 등을 이용하는 표현식 하나와 `if ... else ... ` 명령문을 사용한다.\\\n",
        "즉 중첩 조건문 또는 `if ... elif ... else ...` 등은 사용하지 않아야 한다."
      ]
    },
    {
      "cell_type": "code",
      "execution_count": 16,
      "id": "5243cb6f",
      "metadata": {
        "id": "5243cb6f",
        "outputId": "5354d38b-741e-4a60-9590-bd2a08228c6a",
        "colab": {
          "base_uri": "https://localhost:8080/"
        }
      },
      "outputs": [
        {
          "output_type": "stream",
          "name": "stdout",
          "text": [
            "연도를 입력하세요: 2100\n",
            "평년입니다.\n"
          ]
        }
      ],
      "source": [
        "# 코드를 작성한다.\n",
        "# 필요하면 코드셀 또는 텍스트셀을 추가할 수 있습니다.\n",
        "a= int(input(\"연도를 입력하세요: \"))\n",
        "if a%4 ==0 and a%400 == 0:\n",
        "  print(\"윤년입니다.\")\n",
        "else:\n",
        "  a%4 ==0 and a%100 == 0\n",
        "  print(\"평년입니다.\")\n"
      ]
    },
    {
      "cell_type": "markdown",
      "id": "5e129257",
      "metadata": {
        "id": "5e129257"
      },
      "source": [
        "**문제 6**"
      ]
    },
    {
      "cell_type": "markdown",
      "id": "47f70b53",
      "metadata": {
        "id": "47f70b53"
      },
      "source": [
        "아래 코드는 세 개의 막대 길이에 해당하는 부동소수점을 입력받아\n",
        "삼각형을 그릴 수 있는지 여부를 판단한다."
      ]
    },
    {
      "cell_type": "code",
      "execution_count": 17,
      "id": "bf008e93",
      "metadata": {
        "id": "bf008e93",
        "outputId": "ff8ca8a0-646b-49db-de3f-dcfb187a528d",
        "colab": {
          "base_uri": "https://localhost:8080/"
        }
      },
      "outputs": [
        {
          "output_type": "stream",
          "name": "stdout",
          "text": [
            "첫째 막대 길이: 3\n",
            "둘째 막대 길이: 4\n",
            "셋째 막대 길이: 5\n",
            "삼각형 가능\n"
          ]
        }
      ],
      "source": [
        "a = float(input(\"첫째 막대 길이: \"))\n",
        "b = float(input(\"둘째 막대 길이: \"))\n",
        "c = float(input(\"셋째 막대 길이: \"))\n",
        "\n",
        "if a >= b + c or b >= a + c or c >= a + b:\n",
        "    print(\"삼각형 불가능\")\n",
        "else:\n",
        "    print(\"삼각형 가능\")"
      ]
    },
    {
      "cell_type": "markdown",
      "id": "0b9fca13",
      "metadata": {
        "id": "0b9fca13"
      },
      "source": [
        "위 코드를 수정해서\n",
        "`or` 연산자를 사용하는 논리식 `a >= b + c or b >= a + c or c >= a + b` 대신에\n",
        "`a >= b + c`, `b >= a + c`, `c >= a + b` 세 개의 논리식을 따로따로 사용하도록 하라.\n",
        "\n",
        "힌트: `if ... elif ... else ...` 명령문 활용"
      ]
    },
    {
      "cell_type": "code",
      "execution_count": 20,
      "id": "33bd54d7",
      "metadata": {
        "id": "33bd54d7",
        "outputId": "4143cc20-2133-44ec-aaa2-8298fae4e980",
        "colab": {
          "base_uri": "https://localhost:8080/"
        }
      },
      "outputs": [
        {
          "output_type": "stream",
          "name": "stdout",
          "text": [
            "첫째 막대 길이: 1\n",
            "둘째 막대 길이: 9\n",
            "셋째 막대 길이: 3\n",
            "삼각형 불가능\n"
          ]
        }
      ],
      "source": [
        "# 코드를 작성한다.\n",
        "# 필요하면 코드셀 또는 텍스트셀을 추가할 수 있습니다.\n",
        "a = float(input(\"첫째 막대 길이: \"))\n",
        "b = float(input(\"둘째 막대 길이: \"))\n",
        "c = float(input(\"셋째 막대 길이: \"))\n",
        "\n",
        "if a >= b + c:\n",
        "    print(\"삼각형 불가능\")\n",
        "elif b >= a + c:\n",
        "    print(\"삼각형 불가능\")\n",
        "elif c >= a + b:\n",
        "    print(\"삼각형 불가능\")\n",
        "\n",
        "else:\n",
        "    print(\"삼각형 가능\")\n"
      ]
    },
    {
      "cell_type": "markdown",
      "id": "934432ba",
      "metadata": {
        "id": "934432ba"
      },
      "source": [
        "**문제 7**"
      ]
    },
    {
      "cell_type": "markdown",
      "id": "c2dc7f4e",
      "metadata": {
        "id": "c2dc7f4e"
      },
      "source": [
        "직사각형 모양의 바닥에 정사각형 모양의 타일을 깔 때\n",
        "타일은 온장을 그대로 사용할 수도 있고, 잘라서 일부분만 사용할 수도 있다.\n",
        "타일의 크기는 가로, 세로 모두 30cm이며, 잘라서 사용한 타일의 나머지는 사용하지 않는다.\n",
        "\n",
        "가로와 세로 각각 400cm, 500cm 인 바닥을 타일로 덮기 위해 필요한 온장 타일과 잘라서 사용한 타일의 개수의 합을\n",
        "계산하는 코드는 다음과 같다."
      ]
    },
    {
      "cell_type": "code",
      "execution_count": 21,
      "id": "4b174f7d",
      "metadata": {
        "id": "4b174f7d",
        "outputId": "b78a2ae8-bb3c-40b0-a74c-b78ffaa74fe0",
        "colab": {
          "base_uri": "https://localhost:8080/"
        }
      },
      "outputs": [
        {
          "output_type": "stream",
          "name": "stdout",
          "text": [
            "필요한 타일의 수: 238\n"
          ]
        }
      ],
      "source": [
        "width = 400\n",
        "height = 500\n",
        "tile_length = 30\n",
        "\n",
        "num_full_width = width // tile_length\n",
        "num_full_height = height // tile_length\n",
        "\n",
        "# 온장 타일 개수\n",
        "num_full = num_full_width * num_full_height\n",
        "\n",
        "# 잘린 타일 개수\n",
        "if width % tile_length == 0:\n",
        "    if height % tile_length == 0:\n",
        "        num_part = 0\n",
        "    else:\n",
        "        num_part = num_full_width\n",
        "\n",
        "else:\n",
        "    if height % tile_length == 0:\n",
        "        num_part = num_full_height\n",
        "    else:\n",
        "        num_part = num_full_width + num_full_height + 1\n",
        "\n",
        "# 온장 타일과 잘라딘 타일 수\n",
        "print(\"필요한 타일의 수:\", num_full + num_part)"
      ]
    },
    {
      "cell_type": "markdown",
      "id": "796acd30",
      "metadata": {
        "id": "796acd30"
      },
      "source": [
        "중첩 조건문 대신 `if ... elif ... elif ... else ...` 명령문을 사용하도록\n",
        "위 코드를 수정하라.\n",
        "\n",
        "힌트: 논리 연산자 활용"
      ]
    },
    {
      "cell_type": "code",
      "execution_count": 26,
      "id": "3c0fa1d5",
      "metadata": {
        "id": "3c0fa1d5",
        "outputId": "36f2bd74-ab37-4161-bf69-bc41c5c5c731",
        "colab": {
          "base_uri": "https://localhost:8080/"
        }
      },
      "outputs": [
        {
          "output_type": "stream",
          "name": "stdout",
          "text": [
            "필요한 타일의 수: 238\n"
          ]
        }
      ],
      "source": [
        "# 코드를 작성한다.\n",
        "# 필요하면 코드셀 또는 텍스트셀을 추가할 수 있습니다.\n",
        "\n",
        "width = 400\n",
        "height = 500\n",
        "tile_length = 30\n",
        "\n",
        "num_full_width = width // tile_length\n",
        "num_full_height = height // tile_length\n",
        "\n",
        "# 온장 타일 개수\n",
        "num_full = num_full_width * num_full_height\n",
        "\n",
        "# 코드를 이어서 작성하세요.\n",
        "\n",
        "if width % tile_length == 0:\n",
        "    if height % tile_length == 0:\n",
        "        num_part = 0\n",
        "    else:\n",
        "        num_part = num_full_width\n",
        "\n",
        "elif height % tile_length == 0:\n",
        "  num_part = num_full_height\n",
        "\n",
        "else:\n",
        "  num_part = num_full_width + num_full_height + 1\n",
        "\n",
        "print(\"필요한 타일의 수:\", num_full + num_part)"
      ]
    }
  ],
  "metadata": {
    "colab": {
      "provenance": [],
      "include_colab_link": true
    },
    "kernelspec": {
      "display_name": "Python 3 (ipykernel)",
      "language": "python",
      "name": "python3"
    },
    "language_info": {
      "codemirror_mode": {
        "name": "ipython",
        "version": 3
      },
      "file_extension": ".py",
      "mimetype": "text/x-python",
      "name": "python",
      "nbconvert_exporter": "python",
      "pygments_lexer": "ipython3",
      "version": "3.12.7"
    }
  },
  "nbformat": 4,
  "nbformat_minor": 5
}