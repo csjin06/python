{
  "cells": [
    {
      "cell_type": "markdown",
      "metadata": {
        "id": "nUmD9-kfsHGw"
      },
      "source": [
        "# (연습) 정규표현식"
      ]
    },
    {
      "cell_type": "markdown",
      "metadata": {
        "id": "MgBCG_zE0A9f"
      },
      "source": [
        "**주의 사항**\n",
        "\n",
        "* 기존에 작성된 코드 셀과 텍스트 셀은 수정하지 않는다.\n",
        "* 필요한 경우 코드 셀 또는 텍스트 셀을 추가해서 사용한다."
      ]
    },
    {
      "cell_type": "code",
      "execution_count": null,
      "metadata": {
        "id": "GB0da2z5sHG3"
      },
      "outputs": [],
      "source": [
        "import re"
      ]
    },
    {
      "cell_type": "markdown",
      "metadata": {
        "id": "7poIRuFmsHG5"
      },
      "source": [
        "**문제 1**"
      ]
    },
    {
      "cell_type": "markdown",
      "metadata": {
        "id": "qhGndWGcsHG6"
      },
      "source": [
        "임의의 숫자 기호로 구성된 문자열도 정규표현식이다.\n",
        "아래 세 개의 문자열에 공통으로 포함됨 부분문자열 `123`과 매칭되는 정규표현식으로 지정하라."
      ]
    },
    {
      "cell_type": "markdown",
      "metadata": {
        "id": "JHtQW8H_sHG6"
      },
      "source": [
        "| 매칭 | 문자열 |\n",
        "| :---: | :--- |\n",
        "| 성사 | `abc123xyz` |\n",
        "| 성사 | `deine \"123\"` |\n",
        "| 성사 | `var g = 123;` |"
      ]
    },
    {
      "cell_type": "code",
      "execution_count": 4,
      "metadata": {
        "id": "tCwhHJKosHG7",
        "outputId": "2e72b830-b426-4949-fd3b-01ebaa977f93",
        "colab": {
          "base_uri": "https://localhost:8080/"
        }
      },
      "outputs": [
        {
          "output_type": "stream",
          "name": "stdout",
          "text": [
            "<re.Match object; span=(3, 6), match='123'>\n",
            "<re.Match object; span=(7, 10), match='123'>\n",
            "<re.Match object; span=(8, 11), match='123'>\n"
          ]
        }
      ],
      "source": [
        "# 코드를 작성한다.\n",
        "# 필요하면 코드셀 또는 텍스트셀을 추가할 수 있습니다.\n",
        "import re\n",
        "\n",
        "p = re.compile('123')\n",
        "m = p.search('abc123xyz')\n",
        "print(m)\n",
        "m = p.search('deine \"123\"')\n",
        "print(m)\n",
        "m = p.search('var g = 123;')\n",
        "print(m)"
      ]
    },
    {
      "cell_type": "markdown",
      "metadata": {
        "id": "NnKHm8JCsHG7"
      },
      "source": [
        "**문제 2**"
      ]
    },
    {
      "cell_type": "markdown",
      "metadata": {
        "id": "AW5yhdsksHG8"
      },
      "source": [
        "아래 표에 포함된 각각의 문자열에 대해 성사로 표시된 문자열 전체를 매칭 시키는 하나의 정규표현식을\n",
        "선언한 다음에 이를 확인하라.\n",
        "단, 미성사로 표시된 문자열에 대해서는 매칭이 없어야 한다.\n",
        "\n",
        "힌트: 특정 문자만 포함하거나 아니면 특정 문자는 제외시킬 수 있다."
      ]
    },
    {
      "cell_type": "markdown",
      "metadata": {
        "id": "_I_QgBNMsHG8"
      },
      "source": [
        "| 매칭 | 문자열 |\n",
        "| :---: | :--- |\n",
        "| 성사 | `can` |\n",
        "| 성사 | `man` |\n",
        "| 성사 | `fan` |\n",
        "| 미성사 | `dan` |\n",
        "| 미성사 | `ran` |\n",
        "| 미성사 | `pan` |"
      ]
    },
    {
      "cell_type": "code",
      "execution_count": 5,
      "metadata": {
        "id": "Gshe5_68sHG8",
        "outputId": "102579dd-d561-464f-c325-e4700ec14e8a",
        "colab": {
          "base_uri": "https://localhost:8080/"
        }
      },
      "outputs": [
        {
          "output_type": "stream",
          "name": "stdout",
          "text": [
            "<re.Match object; span=(0, 3), match='can'>\n",
            "<re.Match object; span=(0, 3), match='man'>\n",
            "<re.Match object; span=(0, 3), match='fan'>\n",
            "None\n",
            "None\n",
            "None\n"
          ]
        }
      ],
      "source": [
        "# 코드를 작성한다.\n",
        "# 필요하면 코드셀 또는 텍스트셀을 추가할 수 있습니다.\n",
        "import re\n",
        "\n",
        "p = re.compile('[cmf]an')\n",
        "m = p.search('can')\n",
        "print(m)\n",
        "m = p.search('man')\n",
        "print(m)\n",
        "m = p.search('fan')\n",
        "print(m)\n",
        "m = p.search('dan')\n",
        "print(m)\n",
        "m = p.search('ran')\n",
        "print(m)\n",
        "m = p.search('pan')\n",
        "print(m)"
      ]
    },
    {
      "cell_type": "markdown",
      "metadata": {
        "id": "a1V8Y5mbsHG9"
      },
      "source": [
        "**문제 3**"
      ]
    },
    {
      "cell_type": "markdown",
      "metadata": {
        "id": "LSaWFUTEsHG9"
      },
      "source": [
        "아래 표에 포함된 각각의 문자열에 대해 성사로 표시된 문자열 전체를 매칭 시키는 하나의 정규표현식을\n",
        "선언한 다음에 이를 확인하라.\n",
        "단, 미성사로 표시된 문자열에 대해서는 매칭이 없어야 한다.\n",
        "\n",
        "힌트: 특정 문자 또는 문자열의 반복횟수를 지정하거나 한 번 또는 0번 이상의 반복을 지정할 수 있다."
      ]
    },
    {
      "cell_type": "markdown",
      "metadata": {
        "id": "8HmvwEu6sHG-"
      },
      "source": [
        "| 매칭 | 문자열 |\n",
        "| :---: | :--- |\n",
        "| 성사 | `waazzzup` |\n",
        "| 성사 | `waaazzzup` |\n",
        "| 미성사 | `wazzzzzup` |\n",
        "| 미성사 | `wazup` |"
      ]
    },
    {
      "cell_type": "code",
      "execution_count": 10,
      "metadata": {
        "id": "_wIpOPh5sHG-",
        "outputId": "ed3fadef-149f-4b8d-f25e-0b098897ea0f",
        "colab": {
          "base_uri": "https://localhost:8080/"
        }
      },
      "outputs": [
        {
          "output_type": "stream",
          "name": "stdout",
          "text": [
            "<re.Match object; span=(0, 8), match='waazzzup'>\n",
            "<re.Match object; span=(0, 9), match='waaazzzup'>\n",
            "None\n",
            "None\n"
          ]
        }
      ],
      "source": [
        "# 코드를 작성한다.\n",
        "# 필요하면 코드셀 또는 텍스트셀을 추가할 수 있습니다.\n",
        "import re\n",
        "\n",
        "p = re.compile('wa+z{3}up')\n",
        "m = p.search('waazzzup')\n",
        "print(m)\n",
        "m = p.search('waaazzzup')\n",
        "print(m)\n",
        "m = p.search('wazzzzzup')\n",
        "print(m)\n",
        "m = p.search('wazup')\n",
        "print(m)"
      ]
    },
    {
      "cell_type": "markdown",
      "metadata": {
        "id": "3glj8xfhsHG-"
      },
      "source": [
        "**문제 4**"
      ]
    },
    {
      "cell_type": "markdown",
      "metadata": {
        "id": "Ggw6ugRJsHG-"
      },
      "source": [
        "아래 표에 포함된 각각의 문자열에 대해 성사로 표시된 문자열 전체를 매칭 시키는 하나의 정규표현식을\n",
        "선언한 다음에 이를 확인하라.\n",
        "단, 미성사로 표시된 문자열에 대해서는 매칭이 없어야 한다.\n",
        "\n",
        "힌트: `\\s`는 모든 화이트 스페이스 문자를 가리킨다.\n",
        "반면에 `\\S`는 화이트 스페이스를 제외한 임의의 문자를 가리킨다."
      ]
    },
    {
      "cell_type": "markdown",
      "metadata": {
        "id": "xaeCkORJsHG-"
      },
      "source": [
        "| 매칭 | 문자열 |\n",
        "| :---: | :--- |\n",
        "| 성사 | `1. abc` |\n",
        "| 성사 | `2.  abc` |\n",
        "| 성사 | `3.   abc` |\n",
        "| 미성사 | `4.abc` |"
      ]
    },
    {
      "cell_type": "code",
      "execution_count": 11,
      "metadata": {
        "id": "YE3-6MGzsHG_",
        "outputId": "87f57d66-0039-41fa-f994-9d2d4090e309",
        "colab": {
          "base_uri": "https://localhost:8080/"
        }
      },
      "outputs": [
        {
          "output_type": "stream",
          "name": "stdout",
          "text": [
            "<re.Match object; span=(0, 6), match='1. abc'>\n",
            "<re.Match object; span=(0, 6), match='2. abc'>\n",
            "<re.Match object; span=(0, 6), match='3. abc'>\n",
            "None\n"
          ]
        }
      ],
      "source": [
        "# 코드를 작성한다.\n",
        "# 필요하면 코드셀 또는 텍스트셀을 추가할 수 있습니다.\n",
        "import re\n",
        "\n",
        "p = re.compile('\\d\\.\\s+abc')\n",
        "m = p.search('1. abc')\n",
        "print(m)\n",
        "m = p.search('2. abc')\n",
        "print(m)\n",
        "m = p.search('3. abc')\n",
        "print(m)\n",
        "m = p.search('4.abc')\n",
        "print(m)"
      ]
    },
    {
      "cell_type": "markdown",
      "metadata": {
        "id": "8Sv1Dc-CsHG_"
      },
      "source": [
        "**문제 5**"
      ]
    },
    {
      "cell_type": "markdown",
      "metadata": {
        "id": "aWOFx0GysHG_"
      },
      "source": [
        "아래 표에 포함된 각각의 문자열에 대해 성사로 표시된 문자열 전체를 매칭 시키는 하나의 정규표현식을\n",
        "선언한 다음에 이를 확인하라.\n",
        "단, 미성사로 표시된 문자열에 대해서는 매칭이 없어야 한다.\n",
        "\n",
        "힌트: 부분문자열을 캡처한 뒤에 재활용할 수 있는 기능도 지원한다.\n",
        "캡처하고자 하는 부분문자열의 패턴을 소괄호로 감싸인 정규표현식으로 지정한다."
      ]
    },
    {
      "cell_type": "markdown",
      "metadata": {
        "id": "78mwqDzvsHG_"
      },
      "source": [
        "| 그룹 지정 | 문자열 | 그룹 |\n",
        "| :---: | :--- | :--- |\n",
        "| 성사 | `file_record_transcript.pdf` | `file_record_transcript` |\n",
        "| 성사 | `file_07241999.pdf` | `file_07241999` |\n",
        "| 미성사 | `testfile_fake.pdf.tmp` | |"
      ]
    },
    {
      "cell_type": "code",
      "execution_count": 13,
      "metadata": {
        "id": "YjmfDkz1sHG_",
        "outputId": "de1d0968-6804-4dc1-9942-0696ab8dfb08",
        "colab": {
          "base_uri": "https://localhost:8080/"
        }
      },
      "outputs": [
        {
          "output_type": "stream",
          "name": "stdout",
          "text": [
            "<re.Match object; span=(0, 26), match='file_record_transcript.pdf'>\n",
            "<re.Match object; span=(0, 17), match='file_07241999.pdf'>\n",
            "None\n"
          ]
        }
      ],
      "source": [
        "# 코드를 작성한다.\n",
        "# 필요하면 코드셀 또는 텍스트셀을 추가할 수 있습니다.\n",
        "import re\n",
        "\n",
        "p = re.compile('^(file.+)\\.pdf')\n",
        "m = p.search('file_record_transcript.pdf')\n",
        "print(m)\n",
        "m = p.search('file_07241999.pdf')\n",
        "print(m)\n",
        "m = p.search('testfile_fake.pdf.tmp')\n",
        "print(m)"
      ]
    },
    {
      "cell_type": "markdown",
      "metadata": {
        "id": "MVRaAHbwsHG_"
      },
      "source": [
        "**문제 6**"
      ]
    },
    {
      "cell_type": "markdown",
      "metadata": {
        "id": "HjhPaCh0sHG_"
      },
      "source": [
        "아래 표에 포함된 각각의 문자열에 대해 성사로 표시된 문자열 전체를 매칭 시키는 하나의 정규표현식을\n",
        "선언한 다음에 이를 확인하라.\n",
        "단, 미성사로 표시된 문자열에 대해서는 매칭이 없어야 한다.\n",
        "\n",
        "힌트: 소괄호와 파이프 기호 `|`를 함께 사용하면 여러 개의 문자열중에 하나와 매칭되는 문자열을 캡처한다."
      ]
    },
    {
      "cell_type": "markdown",
      "metadata": {
        "id": "Jt92UldisHG_"
      },
      "source": [
        "| 매칭 | 문자열 |\n",
        "| :---: | :--- |\n",
        "| 성사 | `tomato: 1` |\n",
        "| 성사 | `potatos: 2` |"
      ]
    },
    {
      "cell_type": "code",
      "execution_count": 14,
      "metadata": {
        "id": "-UP0A2t2sHHA",
        "outputId": "aa9dad0b-495e-4911-937c-bfa991fc0cac",
        "colab": {
          "base_uri": "https://localhost:8080/"
        }
      },
      "outputs": [
        {
          "output_type": "stream",
          "name": "stdout",
          "text": [
            "<re.Match object; span=(0, 6), match='tomato'>\n",
            "<re.Match object; span=(0, 7), match='potatos'>\n"
          ]
        }
      ],
      "source": [
        "# 코드를 작성한다.\n",
        "# 필요하면 코드셀 또는 텍스트셀을 추가할 수 있습니다.\n",
        "import re\n",
        "\n",
        "p = re.compile('(toma|pota)tos?')\n",
        "m = p.search('tomato: 1')\n",
        "print(m)\n",
        "m = p.search('potatos: 2')\n",
        "print(m)\n"
      ]
    },
    {
      "cell_type": "markdown",
      "metadata": {
        "id": "4vsjkqODsHHA"
      },
      "source": [
        "**문제 7**"
      ]
    },
    {
      "cell_type": "markdown",
      "metadata": {
        "id": "w5wrsDFysHHA"
      },
      "source": [
        "전화번호 끝 네자리를 별표로 처리하는 코드를 작성하라.\n",
        "단 정규표현식을 컴파일한 패턴과 패턴의 `sub()` 메서드만 이용한다."
      ]
    },
    {
      "cell_type": "code",
      "execution_count": 19,
      "metadata": {
        "id": "RlR47YnEsHHA"
      },
      "outputs": [],
      "source": [
        "phone_numbers = \"\"\"\n",
        "010-8009-9118\n",
        "031-700-1919\n",
        "02-769-9877\n",
        "\"\"\""
      ]
    },
    {
      "cell_type": "code",
      "execution_count": 22,
      "metadata": {
        "id": "7qktGiQTsHHA",
        "outputId": "fea48b2a-f581-43ef-9d6e-d1da00d4f76f",
        "colab": {
          "base_uri": "https://localhost:8080/"
        }
      },
      "outputs": [
        {
          "output_type": "stream",
          "name": "stdout",
          "text": [
            "\n",
            "010-8009-****\n",
            "031-700-****\n",
            "02-769-****\n",
            "\n"
          ]
        }
      ],
      "source": [
        "# 코드를 작성한다.\n",
        "# 필요하면 코드셀 또는 텍스트셀을 추가할 수 있습니다.\n",
        "import re\n",
        "\n",
        "p = re.compile('(\\d+)-(\\d+)-\\d+')\n",
        "print(p.sub('\\g<1>-\\g<2>-****', phone_numbers))\n",
        "\n"
      ]
    },
    {
      "cell_type": "markdown",
      "metadata": {
        "id": "SvCpTHpgsHHA"
      },
      "source": [
        "**문제 8**"
      ]
    },
    {
      "cell_type": "markdown",
      "metadata": {
        "id": "GFUWv9lHsHHA"
      },
      "source": [
        "아래 표에 포함된 각각의 문자열에 대해 성사로 표시된 문자열 전체를 매칭 시키는 하나의 정규표현식을\n",
        "선언한 다음에 이를 확인하라.\n",
        "단, 미성사로 표시된 문자열에 대해서는 매칭이 없어야 한다."
      ]
    },
    {
      "cell_type": "markdown",
      "metadata": {
        "id": "-JWJKCg5sHHA"
      },
      "source": [
        "| 매칭 | 문자열 |\n",
        "| :---: | :--- |\n",
        "| 성사 | `3.14529` |\n",
        "| 성사 | `-255.34` |\n",
        "| 성사 | `128` |\n",
        "| 성사 | `1.9e10` |\n",
        "| 성사 | `123,340.00` |\n",
        "| 미성사 | `720p` |"
      ]
    },
    {
      "cell_type": "code",
      "execution_count": 27,
      "metadata": {
        "id": "q3pAoUHQsHHB",
        "outputId": "0d33911c-f8fa-458d-b3a1-3ade0bd3cb09",
        "colab": {
          "base_uri": "https://localhost:8080/"
        }
      },
      "outputs": [
        {
          "output_type": "stream",
          "name": "stdout",
          "text": [
            "<re.Match object; span=(0, 7), match='3.14529'>\n",
            "<re.Match object; span=(0, 7), match='-255.34'>\n",
            "<re.Match object; span=(0, 3), match='128'>\n",
            "<re.Match object; span=(4, 6), match='10'>\n",
            "<re.Match object; span=(4, 10), match='340.00'>\n",
            "None\n"
          ]
        }
      ],
      "source": [
        "# 코드를 작성한다.\n",
        "# 필요하면 코드셀 또는 텍스트셀을 추가할 수 있습니다.\n",
        "import re\n",
        "\n",
        "p = re.compile('-*\\d+\\.*\\d+$')\n",
        "m = p.search('3.14529')\n",
        "print(m)\n",
        "m = p.search('-255.34')\n",
        "print(m)\n",
        "m = p.search('128')\n",
        "print(m)\n",
        "m = p.search('1.9e10')\n",
        "print(m)\n",
        "m = p.search('123,340.00')\n",
        "print(m)\n",
        "m = p.search('720p')\n",
        "print(m)"
      ]
    },
    {
      "cell_type": "markdown",
      "metadata": {
        "id": "l_e7p2dxsHHB"
      },
      "source": [
        "**문제 9**"
      ]
    },
    {
      "cell_type": "markdown",
      "metadata": {
        "id": "PZDPMw6HsHHB"
      },
      "source": [
        "아래 표에 포함된 각각의 문자열에 대해 성사로 표시된 문자열 전체를 매칭 시키는 하나의 정규표현식을\n",
        "선언한 다음에 이를 확인하라.\n",
        "단, 이메일 주소의 아이디는 캡처되어야 한다.\n",
        "또한 정규표현식을 컴파일한 패턴을 이용한다."
      ]
    },
    {
      "cell_type": "markdown",
      "metadata": {
        "id": "gwJP4F5FsHHB"
      },
      "source": [
        "| 그룹 지정 | 문자열 | 그룹 |\n",
        "| :---: | :--- | :--- |\n",
        "| 성사 | `tom@hogwarts.com` | `tom` |\n",
        "| 성사 | `tom.riddle@hogwarts.com` | `tom.riddle` |\n",
        "| 성사 | `tom.riddle+regexone@hogwarts.com` | `tom.riddle` |"
      ]
    },
    {
      "cell_type": "code",
      "execution_count": 29,
      "metadata": {
        "id": "L5ISHTGAsHHB",
        "outputId": "5b37f767-b7e0-40e7-8699-0bc9fc31b873",
        "colab": {
          "base_uri": "https://localhost:8080/"
        }
      },
      "outputs": [
        {
          "output_type": "stream",
          "name": "stdout",
          "text": [
            "<re.Match object; span=(0, 16), match='tom@hogwarts.com'>\n",
            "<re.Match object; span=(0, 23), match='tom.riddle@hogwarts.com'>\n",
            "<re.Match object; span=(0, 32), match='tom.riddle+regexone@hogwarts.com'>\n"
          ]
        }
      ],
      "source": [
        "# 코드를 작성한다.\n",
        "# 필요하면 코드셀 또는 텍스트셀을 추가할 수 있습니다.\n",
        "import re\n",
        "\n",
        "p = re.compile('^(tom.*)@hogwarts\\.com')\n",
        "m = p.search('tom@hogwarts.com')\n",
        "print(m)\n",
        "m = p.search('tom.riddle@hogwarts.com')\n",
        "print(m)\n",
        "m = p.search('tom.riddle+regexone@hogwarts.com')\n",
        "print(m)"
      ]
    },
    {
      "cell_type": "markdown",
      "metadata": {
        "id": "xw7PHEhmsHHG"
      },
      "source": [
        "**문제 10**"
      ]
    },
    {
      "cell_type": "markdown",
      "metadata": {
        "id": "LcJTMCtCsHHH"
      },
      "source": [
        "아래 표에 포함된 각각의 문자열에 대해 HTML 태그로 감싸진 부분문자열을 캡처하는 정규표현식을\n",
        "선언한 다음에 이를 확인하라.\n",
        "또한 정규표현식을 컴파일한 패턴을 이용한다."
      ]
    },
    {
      "cell_type": "markdown",
      "metadata": {
        "id": "hM7RqQd7sHHH"
      },
      "source": [
        "| 그룹 지정 | 문자열 | 그룹 |\n",
        "| :---: | :--- | :--- |\n",
        "| 성사 | `<a>This is a link</a>` | `This is a link` |\n",
        "| 성사 | `<a href='https://regexone.com'>Link</a>` | `Link` |\n",
        "| 성사 | `<div class='test_style'>Test</div>` | `Test` |\n",
        "| 성사 | `<div>Hello <span>world</span></div>` | `Hello` |"
      ]
    },
    {
      "cell_type": "code",
      "execution_count": null,
      "metadata": {
        "id": "15OUBQgDsHHH"
      },
      "outputs": [],
      "source": [
        "# 코드를 작성한다.\n",
        "# 필요하면 코드셀 또는 텍스트셀을 추가할 수 있습니다.\n",
        "import re\n",
        "\n",
        "p = re.compile('^(tom.*)@hogwarts\\.com')\n",
        "m = p.search('tom@hogwarts.com')\n",
        "print(m)\n",
        "m = p.search('tom.riddle@hogwarts.com')\n",
        "print(m)\n",
        "m = p.search('tom.riddle+regexone@hogwarts.com')\n",
        "print(m)\n",
        "m = p.search('tom.riddle+regexone@hogwarts.com')\n",
        "print(m)"
      ]
    },
    {
      "cell_type": "markdown",
      "metadata": {
        "id": "dzQgAxqRsHHH"
      },
      "source": [
        "**문제 11**"
      ]
    },
    {
      "cell_type": "markdown",
      "metadata": {
        "id": "_kJRcD06sHHH"
      },
      "source": [
        "아래 표에 포함된 파일명 중에서 jpg, png, gif 등의 확장자를 가진 사진 파일명을 매칭하면서\n",
        "파일명과 확장자를 캡처하는 정규표현식을 선언한 다음에 이를 확인하라.\n",
        "또한 정규표현식을 컴파일한 패턴을 이용한다."
      ]
    },
    {
      "cell_type": "markdown",
      "metadata": {
        "id": "Uxh0AyXcsHHH"
      },
      "source": [
        "| 그룹 지정 | 문자열 | 그룹 |\n",
        "| :---: | :--- | :--- |\n",
        "| 미성사 | `.bash_profile` | |\n",
        "| 미성사 | `workspace.doc` | |\n",
        "| 성사 | `imatch0912.jpg` | `imatch0912` `jpg` |\n",
        "| 성사 | `updated_imatch0912.png` | `updated_imatch0912` `png` |\n",
        "| 성사 | `favicon.gif` | `favicon` `gif` |\n",
        "| 미성사 | `imatch0912.jpg.tmp` | |"
      ]
    },
    {
      "cell_type": "code",
      "execution_count": 33,
      "metadata": {
        "id": "tVgEj2_RsHHH",
        "outputId": "6451fead-8bb5-4e9b-d6c0-8617a55c0965",
        "colab": {
          "base_uri": "https://localhost:8080/"
        }
      },
      "outputs": [
        {
          "output_type": "stream",
          "name": "stdout",
          "text": [
            "None\n",
            "None\n",
            "<re.Match object; span=(0, 14), match='imatch0912.jpg'>\n",
            "<re.Match object; span=(0, 22), match='updated_imatch0912.png'>\n",
            "<re.Match object; span=(0, 11), match='favicon.gif'>\n",
            "None\n"
          ]
        }
      ],
      "source": [
        "# 코드를 작성한다.\n",
        "# 필요하면 코드셀 또는 텍스트셀을 추가할 수 있습니다.\n",
        "import re\n",
        "\n",
        "p = re.compile('(\\w+).(jpg|png|gif)$')\n",
        "m = p.search('.bash_profile')\n",
        "print(m)\n",
        "m = p.search('workspace.doc')\n",
        "print(m)\n",
        "m = p.search('imatch0912.jpg')\n",
        "print(m)\n",
        "m = p.search('updated_imatch0912.png')\n",
        "print(m)\n",
        "m = p.search('favicon.gif')\n",
        "print(m)\n",
        "m = p.search('imatch0912.jpg.tmp')\n",
        "print(m)"
      ]
    },
    {
      "cell_type": "markdown",
      "metadata": {
        "id": "dbF7KmcPsHHH"
      },
      "source": [
        "**문제 12**"
      ]
    },
    {
      "cell_type": "markdown",
      "metadata": {
        "id": "tNLux3cssHHH"
      },
      "source": [
        "아래 표에 인터넷 또는 파일 주소를 가리키는 문자열에 대해 그룹으로 지정된 두 개의 부분문자여을 캠처하는\n",
        "정규표현식을 선언한 다음에 이를 확인하라.\n",
        "또한 정규표현식을 컴파일한 패턴을 이용한다."
      ]
    },
    {
      "cell_type": "markdown",
      "metadata": {
        "id": "RWCdo3j5sHHH"
      },
      "source": [
        "| 그룹 지정 | 문자열 | 그룹 |\n",
        "| :---: | :--- | :--- |\n",
        "| 성사 | `https://regexone.com/lesson/` | `https` `regexone.com` |\n",
        "| 성사 | `file://localhost:4040/zip_file` | `file` `localhost` `4040` |"
      ]
    },
    {
      "cell_type": "code",
      "execution_count": 34,
      "metadata": {
        "id": "Z_jP3wJCsHHH",
        "outputId": "67f56744-a30f-4566-ff07-8ec4ca444443",
        "colab": {
          "base_uri": "https://localhost:8080/"
        }
      },
      "outputs": [
        {
          "output_type": "stream",
          "name": "stdout",
          "text": [
            "<re.Match object; span=(0, 28), match='https://regexone.com/lesson/'>\n",
            "<re.Match object; span=(0, 30), match='file://localhost:4040/zip_file'>\n"
          ]
        }
      ],
      "source": [
        "# 코드를 작성한다.\n",
        "# 필요하면 코드셀 또는 텍스트셀을 추가할 수 있습니다.\n",
        "import re\n",
        "\n",
        "p = re.compile('^(https|file)://(.+|.+(\\d+))/.+')\n",
        "m = p.search('https://regexone.com/lesson/')\n",
        "print(m)\n",
        "m = p.search('file://localhost:4040/zip_file')\n",
        "print(m)"
      ]
    }
  ],
  "metadata": {
    "colab": {
      "provenance": []
    },
    "kernelspec": {
      "display_name": "Python 3 (ipykernel)",
      "language": "python",
      "name": "python3"
    },
    "language_info": {
      "codemirror_mode": {
        "name": "ipython",
        "version": 3
      },
      "file_extension": ".py",
      "mimetype": "text/x-python",
      "name": "python",
      "nbconvert_exporter": "python",
      "pygments_lexer": "ipython3",
      "version": "3.12.7"
    }
  },
  "nbformat": 4,
  "nbformat_minor": 0
}