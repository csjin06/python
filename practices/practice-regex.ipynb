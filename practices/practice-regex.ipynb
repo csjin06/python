{
  "cells": [
    {
      "cell_type": "markdown",
      "metadata": {
        "id": "f_8eWqz0mLFw"
      },
      "source": [
        "# (연습) 정규표현식"
      ]
    },
    {
      "cell_type": "markdown",
      "metadata": {
        "id": "MgBCG_zE0A9f"
      },
      "source": [
        "**주의 사항**\n",
        "\n",
        "* 기존에 작성된 코드 셀과 텍스트 셀은 수정하지 않는다.\n",
        "* 필요한 경우 코드 셀 또는 텍스트 셀을 추가해서 사용한다."
      ]
    },
    {
      "cell_type": "code",
      "execution_count": 1,
      "metadata": {
        "id": "d3BUVpjkmLF2"
      },
      "outputs": [],
      "source": [
        "import re"
      ]
    },
    {
      "cell_type": "markdown",
      "metadata": {
        "id": "DlMAKYdLmLF4"
      },
      "source": [
        "**문제 1**"
      ]
    },
    {
      "cell_type": "markdown",
      "metadata": {
        "id": "LFNNcHI5mLF5"
      },
      "source": [
        "임의의 숫자 기호로 구성된 문자열도 정규표현식이다.\n",
        "아래 세 개의 문자열에 공통으로 포함됨 부분문자열 `123`과 매칭되는 정규표현식으로 지정하라."
      ]
    },
    {
      "cell_type": "markdown",
      "metadata": {
        "id": "sU3GPx6_mLF5"
      },
      "source": [
        "| 매칭 | 문자열 |\n",
        "| :---: | :--- |\n",
        "| 성사 | `abc123xyz` |\n",
        "| 성사 | `deine \"123\"` |\n",
        "| 성사 | `var g = 123;` |"
      ]
    },
    {
      "cell_type": "code",
      "execution_count": 10,
      "metadata": {
        "id": "jE-k8nk8mLF5",
        "outputId": "19258f59-3cf2-4e7b-bb32-d1903877a1f0",
        "colab": {
          "base_uri": "https://localhost:8080/"
        }
      },
      "outputs": [
        {
          "output_type": "execute_result",
          "data": {
            "text/plain": [
              "<re.Match object; span=(8, 11), match='123'>"
            ]
          },
          "metadata": {},
          "execution_count": 10
        }
      ],
      "source": [
        "# 코드를 작성한다.\n",
        "# 필요하면 코드셀 또는 텍스트셀을 추가할 수 있습니다.\n",
        "re.search(r'123', 'abc123xyz')\n",
        "re.search(r'123', 'deine \"123\"')\n",
        "re.search(r'123', 'var g = 123;')"
      ]
    },
    {
      "cell_type": "markdown",
      "metadata": {
        "id": "UKfSN4XmmLF6"
      },
      "source": [
        "**문제 2**"
      ]
    },
    {
      "cell_type": "markdown",
      "metadata": {
        "id": "EG0sPXqrmLF7"
      },
      "source": [
        "아래 표에 포함된 각각의 문자열에 대해 성사로 표시된 문자열 전체를 매칭 시키는 하나의 정규표현식을\n",
        "선언한 다음에 이를 확인하라.\n",
        "단, 미성사로 표시된 문자열에 대해서는 매칭이 없어야 한다.\n",
        "\n",
        "힌트: 특정 문자만 포함하거나 아니면 특정 문자는 제외시킬 수 있다."
      ]
    },
    {
      "cell_type": "markdown",
      "metadata": {
        "id": "Vj57d0ZsmLF7"
      },
      "source": [
        "| 매칭 | 문자열 |\n",
        "| :---: | :--- |\n",
        "| 성사 | `can` |\n",
        "| 성사 | `man` |\n",
        "| 성사 | `fan` |\n",
        "| 미성사 | `dan` |\n",
        "| 미성사 | `ran` |\n",
        "| 미성사 | `pan` |"
      ]
    },
    {
      "cell_type": "code",
      "execution_count": 17,
      "metadata": {
        "id": "n-0KeyvnmLF8",
        "outputId": "2592610f-559f-47ed-be37-379ec35f4e44",
        "colab": {
          "base_uri": "https://localhost:8080/"
        }
      },
      "outputs": [
        {
          "output_type": "execute_result",
          "data": {
            "text/plain": [
              "<re.Match object; span=(0, 3), match='fan'>"
            ]
          },
          "metadata": {},
          "execution_count": 17
        }
      ],
      "source": [
        "# 코드를 작성한다.\n",
        "# 필요하면 코드셀 또는 텍스트셀을 추가할 수 있습니다.\n",
        "re.search(r'[cmf]an', 'can')\n",
        "re.search(r'[cmf]an', 'man')\n",
        "re.search(r'[cmf]an', 'fan')"
      ]
    },
    {
      "cell_type": "markdown",
      "metadata": {
        "id": "1ZnF8Y3jmLF8"
      },
      "source": [
        "**문제 3**"
      ]
    },
    {
      "cell_type": "markdown",
      "metadata": {
        "id": "qvYvM79EmLF8"
      },
      "source": [
        "아래 표에 포함된 각각의 문자열에 대해 성사로 표시된 문자열 전체를 매칭 시키는 하나의 정규표현식을\n",
        "선언한 다음에 이를 확인하라.\n",
        "단, 미성사로 표시된 문자열에 대해서는 매칭이 없어야 한다.\n",
        "\n",
        "힌트: 특정 문자 또는 문자열의 반복횟수를 지정하거나 한 번 또는 0번 이상의 반복을 지정할 수 있다."
      ]
    },
    {
      "cell_type": "markdown",
      "metadata": {
        "id": "4kpzBHi4mLF8"
      },
      "source": [
        "| 매칭 | 문자열 |\n",
        "| :---: | :--- |\n",
        "| 성사 | `waazzzup` |\n",
        "| 성사 | `waaazzzup` |\n",
        "| 미성사 | `wazzzzzup` |\n",
        "| 미성사 | `wazup` |"
      ]
    },
    {
      "cell_type": "code",
      "execution_count": 27,
      "metadata": {
        "id": "4Ig6WhKLmLF8",
        "outputId": "335dc57f-79af-4c1f-a7bf-7759fdbb9063",
        "colab": {
          "base_uri": "https://localhost:8080/"
        }
      },
      "outputs": [
        {
          "output_type": "execute_result",
          "data": {
            "text/plain": [
              "<re.Match object; span=(0, 9), match='waaazzzup'>"
            ]
          },
          "metadata": {},
          "execution_count": 27
        }
      ],
      "source": [
        "# 코드를 작성한다.\n",
        "# 필요하면 코드셀 또는 텍스트셀을 추가할 수 있습니다.\n",
        "re.search(r'wa{1,3}zzzup', 'waazzzup')\n",
        "re.search(r'wa{1,3}zzzup', 'waaazzzup')\n",
        "\n",
        "\n"
      ]
    },
    {
      "cell_type": "markdown",
      "metadata": {
        "id": "jFkYMPQQmLF9"
      },
      "source": [
        "**문제 4**"
      ]
    },
    {
      "cell_type": "markdown",
      "metadata": {
        "id": "-sOwGLnWmLF9"
      },
      "source": [
        "아래 표에 포함된 각각의 문자열에 대해 성사로 표시된 문자열 전체를 매칭 시키는 하나의 정규표현식을\n",
        "선언한 다음에 이를 확인하라.\n",
        "단, 미성사로 표시된 문자열에 대해서는 매칭이 없어야 한다.\n",
        "\n",
        "힌트: `\\s`는 모든 화이트 스페이스 문자를 가리킨다.\n",
        "반면에 `\\S`는 화이트 스페이스를 제외한 임의의 문자를 가리킨다."
      ]
    },
    {
      "cell_type": "markdown",
      "metadata": {
        "id": "jXU-SJ2CmLF9"
      },
      "source": [
        "| 매칭 | 문자열 |\n",
        "| :---: | :--- |\n",
        "| 성사 | `1. abc` |\n",
        "| 성사 | `2.  abc` |\n",
        "| 성사 | `3.   abc` |\n",
        "| 미성사 | `4.abc` |"
      ]
    },
    {
      "cell_type": "code",
      "execution_count": 37,
      "metadata": {
        "id": "4jE2m4n6mLF9",
        "outputId": "19627807-87f7-404d-9556-a939288f9220",
        "colab": {
          "base_uri": "https://localhost:8080/"
        }
      },
      "outputs": [
        {
          "output_type": "execute_result",
          "data": {
            "text/plain": [
              "<re.Match object; span=(0, 8), match='3.   abc'>"
            ]
          },
          "metadata": {},
          "execution_count": 37
        }
      ],
      "source": [
        "# 코드를 작성한다.\n",
        "# 필요하면 코드셀 또는 텍스트셀을 추가할 수 있습니다.\n",
        "re.search(r'\\d.\\sabc', '1. abc')\n",
        "re.search(r'\\d.\\s\\sabc', '2.  abc')\n",
        "re.search(r'\\d.\\s\\s\\sabc', '3.   abc')"
      ]
    },
    {
      "cell_type": "markdown",
      "metadata": {
        "id": "NA2lhOO5mLF9"
      },
      "source": [
        "**문제 5**"
      ]
    },
    {
      "cell_type": "markdown",
      "metadata": {
        "id": "G8vXcWQhmLF9"
      },
      "source": [
        "아래 표에 포함된 각각의 문자열에 대해 성사로 표시된 문자열 전체를 매칭 시키는 하나의 정규표현식을\n",
        "선언한 다음에 이를 확인하라.\n",
        "단, 미성사로 표시된 문자열에 대해서는 매칭이 없어야 한다.\n",
        "\n",
        "힌트: 부분문자열을 캡처한 뒤에 재활용할 수 있는 기능도 지원한다.\n",
        "캡처하고자 하는 부분문자열의 패턴을 소괄호로 감싸인 정규표현식으로 지정한다."
      ]
    },
    {
      "cell_type": "markdown",
      "metadata": {
        "id": "faZbNVTOmLF-"
      },
      "source": [
        "| 그룹 지정 | 문자열 | 그룹 |\n",
        "| :---: | :--- | :--- |\n",
        "| 성사 | `file_record_transcript.pdf` | `file_record_transcript` |\n",
        "| 성사 | `file_07241999.pdf` | `file_07241999` |\n",
        "| 미성사 | `testfile_fake.pdf.tmp` | |"
      ]
    },
    {
      "cell_type": "code",
      "execution_count": 39,
      "metadata": {
        "id": "F9JYlW4NmLF-",
        "outputId": "4989f33c-f730-4cde-ca8e-0374bd3d0ac2",
        "colab": {
          "base_uri": "https://localhost:8080/"
        }
      },
      "outputs": [
        {
          "output_type": "execute_result",
          "data": {
            "text/plain": [
              "<re.Match object; span=(0, 17), match='file_07241999.pdf'>"
            ]
          },
          "metadata": {},
          "execution_count": 39
        }
      ],
      "source": [
        "# 코드를 작성한다.\n",
        "# 필요하면 코드셀 또는 텍스트셀을 추가할 수 있습니다.\n",
        "re.search(r'(^file.+)\\.pdf', 'file_record_transcript.pdf')\n",
        "re.search(r'(^file.+)\\.pdf', 'file_07241999.pdf')\n"
      ]
    },
    {
      "cell_type": "markdown",
      "metadata": {
        "id": "5iAebWdbmLF-"
      },
      "source": [
        "**문제 6**"
      ]
    },
    {
      "cell_type": "markdown",
      "metadata": {
        "id": "RHKE2n_OmLF-"
      },
      "source": [
        "아래 표에 포함된 각각의 문자열에 대해 성사로 표시된 문자열 전체를 매칭 시키는 하나의 정규표현식을\n",
        "선언한 다음에 이를 확인하라.\n",
        "단, 미성사로 표시된 문자열에 대해서는 매칭이 없어야 한다.\n",
        "\n",
        "힌트: 소괄호와 파이프 기호 `|`를 함께 사용하면 여러 개의 문자열중에 하나와 매칭되는 문자열을 캡처한다."
      ]
    },
    {
      "cell_type": "markdown",
      "metadata": {
        "id": "m1FrXQzXmLF-"
      },
      "source": [
        "| 매칭 | 문자열 |\n",
        "| :---: | :--- |\n",
        "| 성사 | `tomato: 1` |\n",
        "| 성사 | `potatos: 2` |"
      ]
    },
    {
      "cell_type": "code",
      "execution_count": 50,
      "metadata": {
        "id": "joSmi0_7mLF-",
        "outputId": "c0832914-ae8c-48f6-8d19-68e0fb8c418c",
        "colab": {
          "base_uri": "https://localhost:8080/"
        }
      },
      "outputs": [
        {
          "output_type": "execute_result",
          "data": {
            "text/plain": [
              "<re.Match object; span=(0, 10), match='potatos: 2'>"
            ]
          },
          "metadata": {},
          "execution_count": 50
        }
      ],
      "source": [
        "# 코드를 작성한다.\n",
        "# 필요하면 코드셀 또는 텍스트셀을 추가할 수 있습니다.\n",
        "re.search(r'(toma|pota)tos?: \\d', 'tomato: 1')\n",
        "re.search(r'(toma|pota)tos?: \\d', 'potatos: 2')"
      ]
    },
    {
      "cell_type": "markdown",
      "metadata": {
        "id": "Mor4kCOhmLF-"
      },
      "source": [
        "**문제 7**"
      ]
    },
    {
      "cell_type": "markdown",
      "metadata": {
        "id": "oAF-fKSAmLF-"
      },
      "source": [
        "전화번호 끝 네자리를 별표로 처리하는 코드를 작성하라.\n",
        "단 정규표현식을 컴파일한 패턴과 패턴의 `sub()` 메서드만 이용한다."
      ]
    },
    {
      "cell_type": "code",
      "execution_count": 43,
      "metadata": {
        "id": "kjJcfXUUmLF-"
      },
      "outputs": [],
      "source": [
        "phone_numbers = \"\"\"\n",
        "010-8009-9118\n",
        "031-700-1919\n",
        "02-769-9877\n",
        "\"\"\""
      ]
    },
    {
      "cell_type": "code",
      "execution_count": 47,
      "metadata": {
        "id": "NlIriT6zmLF_",
        "outputId": "8e5fd22d-fe11-4f3e-8625-eaf10ebb9908",
        "colab": {
          "base_uri": "https://localhost:8080/"
        }
      },
      "outputs": [
        {
          "output_type": "stream",
          "name": "stdout",
          "text": [
            "\n",
            "010-8009-****\n",
            "031-700-****\n",
            "02-769-****\n",
            "\n"
          ]
        }
      ],
      "source": [
        "# 코드를 작성한다.\n",
        "# 필요하면 코드셀 또는 텍스트셀을 추가할 수 있습니다.\n",
        "a = re.compile(\"(\\d{1,3})[-](\\d{3,4})[-]\\d+\")\n",
        "print(a.sub(\"\\g<1>-\\g<2>-****\", phone_numbers))"
      ]
    },
    {
      "cell_type": "markdown",
      "metadata": {
        "id": "m3Kn86-WmLF_"
      },
      "source": [
        "**문제 8**"
      ]
    },
    {
      "cell_type": "markdown",
      "metadata": {
        "id": "e2vhLqu2mLF_"
      },
      "source": [
        "아래 표에 포함된 각각의 문자열에 대해 성사로 표시된 문자열 전체를 매칭 시키는 하나의 정규표현식을\n",
        "선언한 다음에 이를 확인하라.\n",
        "단, 미성사로 표시된 문자열에 대해서는 매칭이 없어야 한다."
      ]
    },
    {
      "cell_type": "markdown",
      "metadata": {
        "id": "apTubptimLF_"
      },
      "source": [
        "| 매칭 | 문자열 |\n",
        "| :---: | :--- |\n",
        "| 성사 | `3.14529` |\n",
        "| 성사 | `-255.34` |\n",
        "| 성사 | `128` |\n",
        "| 성사 | `1.9e10` |\n",
        "| 성사 | `123,340.00` |\n",
        "| 미성사 | `720p` |"
      ]
    },
    {
      "cell_type": "code",
      "execution_count": 113,
      "metadata": {
        "id": "9wD8l3O7mLF_",
        "outputId": "f23081f1-0d27-4639-951e-4451f8210b98",
        "colab": {
          "base_uri": "https://localhost:8080/"
        }
      },
      "outputs": [
        {
          "output_type": "execute_result",
          "data": {
            "text/plain": [
              "<re.Match object; span=(0, 10), match='123,340.00'>"
            ]
          },
          "metadata": {},
          "execution_count": 113
        }
      ],
      "source": [
        "# 코드를 작성한다.\n",
        "# 필요하면 코드셀 또는 텍스트셀을 추가할 수 있습니다.\n",
        "re.search(r\"(-|)(\\d+\\.\\d+[eE][+-]([0-9]+)|\\d{1,3}(,\\d{3})*\\.\\d+|\\d+\\.\\d+|\\d{1,3}(,\\d{3})+|\\d+&)\", '3.14529')\n",
        "re.search(r\"(-|)(\\d+\\.\\d+[eE][+-]([0-9]+)|\\d{1,3}(,\\d{3})*\\.\\d+|\\d+\\.\\d+|\\d{1,3}(,\\d{3})+|\\d+&)\", '-255.34')\n",
        "re.search(r\"(-|)(\\d+\\.\\d+[eE][+-]([0-9]+)|\\d{1,3}(,\\d{3})*\\.\\d+|\\d+\\.\\d+|\\d{1,3}(,\\d{3})+|\\d+&)\", '128')\n",
        "re.search(r\"(-|)(\\d+\\.\\d+[eE][+-]([0-9]+)|\\d{1,3}(,\\d{3})*\\.\\d+|\\d+\\.\\d+|\\d{1,3}(,\\d{3})+|\\d+&)\", '1.9e10')\n",
        "re.search(r\"(-|)(\\d+\\.\\d+[eE][+-]([0-9]+)|\\d{1,3}(,\\d{3})*\\.\\d+|\\d+\\.\\d+|\\d{1,3}(,\\d{3})+|\\d+&)\", '123,340.00')"
      ]
    },
    {
      "cell_type": "markdown",
      "metadata": {
        "id": "M0MTYYVJmLF_"
      },
      "source": [
        "**문제 9**"
      ]
    },
    {
      "cell_type": "markdown",
      "metadata": {
        "id": "Yklu6w2fmLF_"
      },
      "source": [
        "아래 표에 포함된 각각의 문자열에 대해 성사로 표시된 문자열 전체를 매칭 시키는 하나의 정규표현식을\n",
        "선언한 다음에 이를 확인하라.\n",
        "단, 이메일 주소의 아이디는 캡처되어야 한다.\n",
        "또한 정규표현식을 컴파일한 패턴을 이용한다."
      ]
    },
    {
      "cell_type": "markdown",
      "metadata": {
        "id": "azZ1JZ7imLGA"
      },
      "source": [
        "| 그룹 지정 | 문자열 | 그룹 |\n",
        "| :---: | :--- | :--- |\n",
        "| 성사 | `tom@hogwarts.com` | `tom` |\n",
        "| 성사 | `tom.riddle@hogwarts.com` | `tom.riddle` |\n",
        "| 성사 | `tom.riddle+regexone@hogwarts.com` | `tom.riddle` |"
      ]
    },
    {
      "cell_type": "code",
      "execution_count": 91,
      "metadata": {
        "id": "16vSPA87mLGA",
        "outputId": "9646fbef-19e5-466b-c8fa-efe4a17dd5d1",
        "colab": {
          "base_uri": "https://localhost:8080/"
        }
      },
      "outputs": [
        {
          "output_type": "execute_result",
          "data": {
            "text/plain": [
              "<re.Match object; span=(0, 32), match='tom.riddle+regexone@hogwarts.com'>"
            ]
          },
          "metadata": {},
          "execution_count": 91
        }
      ],
      "source": [
        "# 코드를 작성한다.\n",
        "# 필요하면 코드셀 또는 텍스트셀을 추가할 수 있습니다.\n",
        "re.search(r'^(tom.*)@hogwarts\\.com', 'tom@hogwarts.com')\n",
        "re.search(r'^(tom.*)@hogwarts\\.com', 'tom.riddle@hogwarts.com')\n",
        "re.search(r'^(tom.*)@hogwarts\\.com', 'tom.riddle+regexone@hogwarts.com')\n",
        "\n",
        "\n",
        "\n"
      ]
    },
    {
      "cell_type": "markdown",
      "metadata": {
        "id": "Sx3KtCsWmLGG"
      },
      "source": [
        "**문제 10**"
      ]
    },
    {
      "cell_type": "markdown",
      "metadata": {
        "id": "dYQgE7RrmLGG"
      },
      "source": [
        "아래 표에 포함된 각각의 문자열에 대해 HTML 태그로 감싸진 부분문자열을 캡처하는 정규표현식을\n",
        "선언한 다음에 이를 확인하라.\n",
        "또한 정규표현식을 컴파일한 패턴을 이용한다."
      ]
    },
    {
      "cell_type": "markdown",
      "metadata": {
        "id": "XY9Jt44MmLGG"
      },
      "source": [
        "| 그룹 지정 | 문자열 | 그룹 |\n",
        "| :---: | :--- | :--- |\n",
        "| 성사 | `<a>This is a link</a>` | `This is a link` |\n",
        "| 성사 | `<a href='https://regexone.com'>Link</a>` | `Link` |\n",
        "| 성사 | `<div class='test_style'>Test</div>` | `Test` |\n",
        "| 성사 | `<div>Hello <span>world</span></div>` | `Hello` |"
      ]
    },
    {
      "cell_type": "code",
      "execution_count": 120,
      "metadata": {
        "id": "vuLEU0qSmLGH",
        "outputId": "ad4ff991-6f46-4abe-bd30-ee2ac6f3dc4f",
        "colab": {
          "base_uri": "https://localhost:8080/"
        }
      },
      "outputs": [
        {
          "output_type": "execute_result",
          "data": {
            "text/plain": [
              "<re.Match object; span=(0, 21), match='<a>This is a link</a>'>"
            ]
          },
          "metadata": {},
          "execution_count": 120
        }
      ],
      "source": [
        "# 코드를 작성한다.\n",
        "# 필요하면 코드셀 또는 텍스트셀을 추가할 수 있습니다.\n",
        "re.search(r\"<[^>]+>([^<]*)</[^>]+>\", '<a>This is a link</a>')"
      ]
    },
    {
      "cell_type": "markdown",
      "metadata": {
        "id": "mvG6LmPYmLGH"
      },
      "source": [
        "**문제 11**"
      ]
    },
    {
      "cell_type": "markdown",
      "metadata": {
        "id": "uGst4-YpmLGH"
      },
      "source": [
        "아래 표에 포함된 파일명 중에서 jpg, png, gif 등의 확장자를 가진 사진 파일명을 매칭하면서\n",
        "파일명과 확장자를 캡처하는 정규표현식을 선언한 다음에 이를 확인하라.\n",
        "또한 정규표현식을 컴파일한 패턴을 이용한다."
      ]
    },
    {
      "cell_type": "markdown",
      "metadata": {
        "id": "USNhwvCqmLGH"
      },
      "source": [
        "| 그룹 지정 | 문자열 | 그룹 |\n",
        "| :---: | :--- | :--- |\n",
        "| 미성사 | `.bash_profile` | |\n",
        "| 미성사 | `workspace.doc` | |\n",
        "| 성사 | `imatch0912.jpg` | `imatch0912` `jpg` |\n",
        "| 성사 | `updated_imatch0912.png` | `updated_imatch0912` `png` |\n",
        "| 성사 | `favicon.gif` | `favicon` `gif` |\n",
        "| 미성사 | `imatch0912.jpg.tmp` | |"
      ]
    },
    {
      "cell_type": "code",
      "execution_count": 127,
      "metadata": {
        "id": "X0rBwRQVmLGH",
        "outputId": "991de963-cc66-42db-cd7d-4da49d150425",
        "colab": {
          "base_uri": "https://localhost:8080/"
        }
      },
      "outputs": [
        {
          "output_type": "execute_result",
          "data": {
            "text/plain": [
              "<re.Match object; span=(0, 11), match='favicon.gif'>"
            ]
          },
          "metadata": {},
          "execution_count": 127
        }
      ],
      "source": [
        "# 코드를 작성한다.\n",
        "# 필요하면 코드셀 또는 텍스트셀을 추가할 수 있습니다.\n",
        "re.search(r'^(\\w+)\\.(jpg|png|gif)', 'imatch0912.jpg')\n",
        "re.search(r'^(\\w+)\\.(jpg|png|gif)', 'updated_imatch0912.png')\n",
        "re.search(r'^(\\w+)\\.(jpg|png|gif)', 'favicon.gif')\n"
      ]
    },
    {
      "cell_type": "markdown",
      "metadata": {
        "id": "akMdUG24mLGH"
      },
      "source": [
        "**문제 12**"
      ]
    },
    {
      "cell_type": "markdown",
      "metadata": {
        "id": "VmMMXoXimLGH"
      },
      "source": [
        "아래 표에 인터넷 또는 파일 주소를 가리키는 문자열에 대해 그룹으로 지정된 두 개의 부분문자여을 캠처하는\n",
        "정규표현식을 선언한 다음에 이를 확인하라.\n",
        "또한 정규표현식을 컴파일한 패턴을 이용한다."
      ]
    },
    {
      "cell_type": "markdown",
      "metadata": {
        "id": "E2ojj6COmLGH"
      },
      "source": [
        "| 그룹 지정 | 문자열 | 그룹 |\n",
        "| :---: | :--- | :--- |\n",
        "| 성사 | `https://regexone.com/lesson/` | `https` `regexone.com` |\n",
        "| 성사 | `file://localhost:4040/zip_file` | `file` `localhost` `4040` |"
      ]
    },
    {
      "cell_type": "code",
      "execution_count": 132,
      "metadata": {
        "id": "8Jy155BNmLGH",
        "outputId": "1a572daf-9146-4a8c-df3a-1d6f96a113aa",
        "colab": {
          "base_uri": "https://localhost:8080/"
        }
      },
      "outputs": [
        {
          "output_type": "execute_result",
          "data": {
            "text/plain": [
              "<re.Match object; span=(0, 30), match='file://localhost:4040/zip_file'>"
            ]
          },
          "metadata": {},
          "execution_count": 132
        }
      ],
      "source": [
        "# 코드를 작성한다.\n",
        "# 필요하면 코드셀 또는 텍스트셀을 추가할 수 있습니다.\n",
        "re.search(r\"^(https)://([^:/]+)/(.*)$|^(file)://([^:/]+):(\\d+)/(.*)$\", 'https://regexone.com/lesson/')\n",
        "re.search(r\"^(https)://([^:/]+)/(.*)$|^(file)://([^:/]+):(\\d+)/(.*)$\", 'file://localhost:4040/zip_file')"
      ]
    }
  ],
  "metadata": {
    "colab": {
      "provenance": []
    },
    "kernelspec": {
      "display_name": "Python 3 (ipykernel)",
      "language": "python",
      "name": "python3"
    },
    "language_info": {
      "codemirror_mode": {
        "name": "ipython",
        "version": 3
      },
      "file_extension": ".py",
      "mimetype": "text/x-python",
      "name": "python",
      "nbconvert_exporter": "python",
      "pygments_lexer": "ipython3",
      "version": "3.12.7"
    }
  },
  "nbformat": 4,
  "nbformat_minor": 0
}