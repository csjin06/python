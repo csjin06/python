{
  "cells": [
    {
      "cell_type": "markdown",
      "metadata": {
        "id": "view-in-github",
        "colab_type": "text"
      },
      "source": [
        "<a href=\"https://colab.research.google.com/github/csjin06/python/blob/main/practices/practice-functions.ipynb\" target=\"_parent\"><img src=\"https://colab.research.google.com/assets/colab-badge.svg\" alt=\"Open In Colab\"/></a>"
      ]
    },
    {
      "cell_type": "markdown",
      "id": "1966b032",
      "metadata": {
        "id": "1966b032"
      },
      "source": [
        "# (연습) 함수"
      ]
    },
    {
      "cell_type": "markdown",
      "id": "58bc1e4a",
      "metadata": {
        "id": "58bc1e4a"
      },
      "source": [
        "**주의 사항**\n",
        "\n",
        "* 기존에 작성된 코드 셀과 텍스트 셀은 수정하지 않는다.\n",
        "* 필요한 경우 코드 셀 또는 텍스트 셀을 추가해서 사용한다."
      ]
    },
    {
      "cell_type": "markdown",
      "id": "71e4f421",
      "metadata": {
        "id": "71e4f421"
      },
      "source": [
        "**문제 1**"
      ]
    },
    {
      "cell_type": "markdown",
      "id": "6a3c85a0",
      "metadata": {
        "id": "6a3c85a0"
      },
      "source": [
        "아래 코드의 실행 결과를 설명하라."
      ]
    },
    {
      "cell_type": "code",
      "execution_count": 1,
      "id": "686ecbef",
      "metadata": {
        "id": "686ecbef",
        "outputId": "e33bfef9-dd4a-4195-8db8-23be7ea20073",
        "colab": {
          "base_uri": "https://localhost:8080/"
        }
      },
      "outputs": [
        {
          "output_type": "stream",
          "name": "stdout",
          "text": [
            "Hi\n",
            "D\n",
            "C\n",
            "A\n",
            "B\n",
            "A\n"
          ]
        }
      ],
      "source": [
        "print(\"Hi\")\n",
        "\n",
        "def funcA() :\n",
        "    print(\"A\")\n",
        "\n",
        "def funcB() :\n",
        "    print(\"B\")\n",
        "    funcA()\n",
        "\n",
        "def funcC() :\n",
        "    print(\"C\")\n",
        "    funcA()\n",
        "    funcB()\n",
        "\n",
        "print(\"D\")\n",
        "funcC()"
      ]
    },
    {
      "cell_type": "markdown",
      "source": [
        "파이썬의 구문은 위에서 아래로 실행한다.\n",
        "따라서 처음 HI가 먼저 출력되고\n",
        "def funcA,B,C는 새로운 함수를 만든것이지 출력하는것이 아니다\n",
        "따라서 그다음으로 D가 출력되고\n",
        "funcC 함수를 실행하면 C를 출력하고 funcA,B를 실행한다\n",
        "funcA가 먼저 실행되기에 A가 출력되고 funcB가 실행되어 B가 출력된다.\n",
        "또한 funcB는 funcA를 실행시켜 다시 A가 출력된다"
      ],
      "metadata": {
        "id": "-wzVUSHamJLA"
      },
      "id": "-wzVUSHamJLA"
    },
    {
      "cell_type": "markdown",
      "id": "8c56e412",
      "metadata": {
        "id": "8c56e412"
      },
      "source": [
        "**문제 2**"
      ]
    },
    {
      "cell_type": "markdown",
      "id": "eba6010b",
      "metadata": {
        "id": "eba6010b"
      },
      "source": [
        "아래 코드를 실행할 때 발생하는 오류를 설명하라."
      ]
    },
    {
      "cell_type": "code",
      "execution_count": 2,
      "id": "f06ad641",
      "metadata": {
        "id": "f06ad641",
        "outputId": "d2e7e9a0-3071-4b49-ab70-1f1c74917b50",
        "colab": {
          "base_uri": "https://localhost:8080/",
          "height": 176
        }
      },
      "outputs": [
        {
          "output_type": "error",
          "ename": "NameError",
          "evalue": "name 'square' is not defined",
          "traceback": [
            "\u001b[0;31m---------------------------------------------------------------------------\u001b[0m",
            "\u001b[0;31mNameError\u001b[0m                                 Traceback (most recent call last)",
            "\u001b[0;32m<ipython-input-2-259f856eac08>\u001b[0m in \u001b[0;36m<cell line: 0>\u001b[0;34m()\u001b[0m\n\u001b[1;32m      6\u001b[0m \u001b[0msquare17\u001b[0m \u001b[0;34m=\u001b[0m \u001b[0msquare_return\u001b[0m\u001b[0;34m(\u001b[0m\u001b[0mnumber\u001b[0m\u001b[0;34m)\u001b[0m\u001b[0;34m\u001b[0m\u001b[0;34m\u001b[0m\u001b[0m\n\u001b[1;32m      7\u001b[0m \u001b[0;34m\u001b[0m\u001b[0m\n\u001b[0;32m----> 8\u001b[0;31m \u001b[0mprint\u001b[0m\u001b[0;34m(\u001b[0m\u001b[0mnumber\u001b[0m\u001b[0;34m,\u001b[0m \u001b[0;34m\"의 제곱을 계산한\"\u001b[0m\u001b[0;34m,\u001b[0m \u001b[0msquare17\u001b[0m\u001b[0;34m,\u001b[0m \u001b[0;34m\"과\"\u001b[0m\u001b[0;34m,\u001b[0m \u001b[0msquare\u001b[0m\u001b[0;34m,\u001b[0m \u001b[0;34m\"는 동일한 값을 가리킨다.\"\u001b[0m\u001b[0;34m)\u001b[0m\u001b[0;34m\u001b[0m\u001b[0;34m\u001b[0m\u001b[0m\n\u001b[0m",
            "\u001b[0;31mNameError\u001b[0m: name 'square' is not defined"
          ]
        }
      ],
      "source": [
        "def square_return(number):\n",
        "    square = number ** 2\n",
        "    return square\n",
        "\n",
        "number = 17\n",
        "square17 = square_return(number)\n",
        "\n",
        "print(number, \"의 제곱을 계산한\", square17, \"과\", square, \"는 동일한 값을 가리킨다.\")"
      ]
    },
    {
      "cell_type": "markdown",
      "source": [
        "square는 square_return(number) 함수 안에 있는 지역함수라\n",
        "함수 밖에서는 정의할 수 없다.\n"
      ],
      "metadata": {
        "id": "cchNgQnzmwUy"
      },
      "id": "cchNgQnzmwUy"
    },
    {
      "cell_type": "code",
      "execution_count": null,
      "id": "0862dc58",
      "metadata": {
        "id": "0862dc58"
      },
      "outputs": [],
      "source": [
        "# 코드를 작성한다.\n",
        "# 필요하면 코드셀 또는 텍스트셀을 추가할 수 있습니다.\n"
      ]
    },
    {
      "cell_type": "markdown",
      "id": "af40dbf2",
      "metadata": {
        "id": "af40dbf2"
      },
      "source": [
        "**문제 3**"
      ]
    },
    {
      "cell_type": "markdown",
      "id": "36b69aff",
      "metadata": {
        "id": "36b69aff"
      },
      "source": [
        "아래 코드의 실행 결과를 설명하라.\n",
        "반복문 실행횟수는 얼마인가?"
      ]
    },
    {
      "cell_type": "code",
      "execution_count": 4,
      "id": "a9e3bcfb",
      "metadata": {
        "id": "a9e3bcfb",
        "outputId": "0a8ba29b-f73d-44dc-f083-2578c713462f",
        "colab": {
          "base_uri": "https://localhost:8080/"
        }
      },
      "outputs": [
        {
          "output_type": "stream",
          "name": "stdout",
          "text": [
            "1\n",
            "=\n",
            "*\n"
          ]
        },
        {
          "output_type": "execute_result",
          "data": {
            "text/plain": [
              "100"
            ]
          },
          "metadata": {},
          "execution_count": 4
        }
      ],
      "source": [
        "def counter_func(num, limit) :\n",
        "    i = 1\n",
        "    while True :\n",
        "        print(i)\n",
        "        if i == limit :\n",
        "            return i\n",
        "        else:\n",
        "            print(\"=\" * i)\n",
        "            print(\"*\" * i)\n",
        "            i += 1\n",
        "        return num\n",
        "\n",
        "counter_func(100, 5)"
      ]
    },
    {
      "cell_type": "markdown",
      "source": [
        "1번 실행한다.\n",
        "이유는 함수가 실행되면 i가 1로 선언되고\n",
        "조건문 i == limit은 성립하지 않기에\n",
        "else 구문으로 넘어간다.\n",
        "else 구문에서 = 와 * 을 1개 씩 출력하고\n",
        "i에 1을 더해 2가 된다.\n",
        "하지만 num값을 반환하기에 반복문이 종료된다."
      ],
      "metadata": {
        "id": "bM6fC0UHn4xS"
      },
      "id": "bM6fC0UHn4xS"
    },
    {
      "cell_type": "code",
      "execution_count": null,
      "id": "8e3d77b1",
      "metadata": {
        "id": "8e3d77b1"
      },
      "outputs": [],
      "source": [
        "# 코드를 작성한다.\n",
        "# 필요하면 코드셀 또는 텍스트셀을 추가할 수 있습니다.\n"
      ]
    },
    {
      "cell_type": "markdown",
      "id": "f13cea69",
      "metadata": {
        "id": "f13cea69"
      },
      "source": [
        "**문제 4**"
      ]
    },
    {
      "cell_type": "markdown",
      "id": "fdaafd9a",
      "metadata": {
        "id": "fdaafd9a"
      },
      "source": [
        "문자열과 자연수를 인자로 받아, 문자열을 자연수만큼 반복 출력하는 함수\n",
        "`str_n()`를 구현하려 한다.\n",
        "매개 변수는 2개를 사용한다.\n",
        "\n",
        "- `text`: 첫째 인자. 문자열을 인자로 사용.\n",
        "- `num`: 둘째 인자. 양의 정수를 인자로 사용. 기본 키워드 인자로 1 지정.\n",
        "\n",
        "\n",
        "예를 들어 `str_n(\"Hello \", 3)`를 실행하면 다음처럼 출력돼야 한다.\n",
        "\n",
        "```\n",
        "Hello Hello Hello\n",
        "```\n",
        "\n",
        "반면에 `str_n(\"Hello \")`를 실행하면 다음처럼 출력돼야 한다.\n",
        "\n",
        "```\n",
        "Hello\n",
        "```\n",
        "\n",
        "힌트: `print()` 함수 활용"
      ]
    },
    {
      "cell_type": "code",
      "execution_count": 9,
      "id": "e85f4887",
      "metadata": {
        "colab": {
          "base_uri": "https://localhost:8080/"
        },
        "id": "e85f4887",
        "outputId": "f63c9b41-048b-41d8-d3e7-4865efc993ea"
      },
      "outputs": [
        {
          "output_type": "stream",
          "name": "stdout",
          "text": [
            "Hello \n"
          ]
        }
      ],
      "source": [
        "# 코드를 작성한다.\n",
        "# 필요하면 코드셀 또는 텍스트셀을 추가할 수 있습니다.\n",
        "def str_n(text, num=1):\n",
        "  a = text * num\n",
        "  print(a)\n",
        "\n",
        "\n",
        "\n",
        "\n",
        "str_n(\"Hello \")\n"
      ]
    },
    {
      "cell_type": "markdown",
      "id": "c65b7ffc",
      "metadata": {
        "id": "c65b7ffc"
      },
      "source": [
        "**문제 5**"
      ]
    },
    {
      "cell_type": "markdown",
      "id": "16522a31",
      "metadata": {
        "id": "16522a31"
      },
      "source": [
        "정수 `num`을 인자로 해서 호출되었을 때, 1의 자릿수가 3의 배수이면 입력값의 세 배를,\n",
        "아니면 두 배를 반환하는 함수 `three_or_not()` 함수를 구현하라.\n",
        "매개 변수는 `num` 하나만 사용한다.\n",
        "\n",
        "힌트: `if ... else ...` 조건문과 나머지 연산자 `%` 활용"
      ]
    },
    {
      "cell_type": "code",
      "execution_count": 11,
      "id": "4c24cd2d",
      "metadata": {
        "id": "4c24cd2d",
        "outputId": "9e6f628f-06b6-4633-9f10-5153fe16c873",
        "colab": {
          "base_uri": "https://localhost:8080/"
        }
      },
      "outputs": [
        {
          "output_type": "execute_result",
          "data": {
            "text/plain": [
              "27"
            ]
          },
          "metadata": {},
          "execution_count": 11
        }
      ],
      "source": [
        "# 코드를 작성한다.\n",
        "# 필요하면 코드셀 또는 텍스트셀을 추가할 수 있습니다.\n",
        "def three_or_not(num):\n",
        "  if num % 3 == 0:\n",
        "    return num * 3\n",
        "  else:\n",
        "    return num * 2\n",
        "\n",
        "\n",
        "three_or_not(9)"
      ]
    },
    {
      "cell_type": "markdown",
      "id": "9e5ce03e",
      "metadata": {
        "id": "9e5ce03e"
      },
      "source": [
        "**문제 6**"
      ]
    },
    {
      "cell_type": "markdown",
      "id": "79cd6545",
      "metadata": {
        "id": "79cd6545"
      },
      "source": [
        "정수 인자와 함께 호출되어 인자가 짝수일 때는 1, 홀수일 때는 0을 반환하는 함수 `even_odd()`를 구현하라.\n",
        "매개 변수는 `num` 하나만 사용한다.\n",
        "\n",
        "힌트: `if ... else ...` 조건문과 나머지 연산자 `%` 활용"
      ]
    },
    {
      "cell_type": "code",
      "execution_count": 13,
      "id": "a87b2ded",
      "metadata": {
        "id": "a87b2ded",
        "outputId": "84fe3fab-392e-4992-ebd2-7d90edc4818c",
        "colab": {
          "base_uri": "https://localhost:8080/"
        }
      },
      "outputs": [
        {
          "output_type": "execute_result",
          "data": {
            "text/plain": [
              "1"
            ]
          },
          "metadata": {},
          "execution_count": 13
        }
      ],
      "source": [
        "# 코드를 작성한다.\n",
        "# 필요하면 코드셀 또는 텍스트셀을 추가할 수 있습니다.\n",
        "def even_odd(num):\n",
        "  if num % 2 == 0:\n",
        "    return 1\n",
        "  else:\n",
        "    return 0\n",
        "\n",
        "even_odd(8)"
      ]
    },
    {
      "cell_type": "markdown",
      "id": "81a3ff04",
      "metadata": {
        "id": "81a3ff04"
      },
      "source": [
        "**문제 7**"
      ]
    },
    {
      "cell_type": "markdown",
      "id": "74ad757a",
      "metadata": {
        "id": "74ad757a"
      },
      "source": [
        "다음 세 개의 함수는 모두 입력된 문자열이 소문자를 포함하고 있는지 여부를 조사하도록 구현되었지만\n",
        "하나만 제대로 작동한다.\n",
        "어느 함수가 제대로 작동하는지 확인한 다음 그 이유를 설명하라.\n",
        "또한 다른 두 함수가 적절하게 구현되지 않은 이유를 설명하라."
      ]
    },
    {
      "cell_type": "code",
      "execution_count": 14,
      "id": "8b68ed61",
      "metadata": {
        "id": "8b68ed61"
      },
      "outputs": [],
      "source": [
        "def any_lowercase1(text):\n",
        "    for c in text:\n",
        "        flag = c.islower()\n",
        "    return flag\n",
        "\n",
        "def any_lowercase2(text):\n",
        "    for c in text:\n",
        "        if not c.islower():\n",
        "            return False\n",
        "    return True\n",
        "\n",
        "def any_lowercase3(text):\n",
        "    flag = False\n",
        "    for c in text:\n",
        "        if c.islower():\n",
        "            flag = True\n",
        "    return flag"
      ]
    },
    {
      "cell_type": "markdown",
      "source": [
        "첫번째는 마지막 글자만 소문자인지 아닌지를 판단하기 때문에 부적절하다\n",
        "두번째는 모든 글자가 소문자인지를 판단하기 때문에 부적절하다\n",
        "세번째가 정답이다. 한 글자라도 소문자이면 True로 설정한다"
      ],
      "metadata": {
        "id": "a-jxVGxfqtn8"
      },
      "id": "a-jxVGxfqtn8"
    },
    {
      "cell_type": "code",
      "execution_count": null,
      "id": "1077d879",
      "metadata": {
        "id": "1077d879"
      },
      "outputs": [],
      "source": [
        "# 코드를 작성한다.\n",
        "# 필요하면 코드셀 또는 텍스트셀을 추가할 수 있습니다.\n"
      ]
    },
    {
      "cell_type": "markdown",
      "id": "6a7ce160",
      "metadata": {
        "id": "6a7ce160"
      },
      "source": [
        "**문제 8**"
      ]
    },
    {
      "cell_type": "markdown",
      "id": "c8309654",
      "metadata": {
        "id": "c8309654"
      },
      "source": [
        "문자열 `find()` 메서드에 대응하는 `find()` 함수를 직접 정의하라.\n",
        "단, 세 개의 매개변수를 사용하며 각 매개변수의 기능은 다음과 같아야 한다.\n",
        "\n",
        "* 매개 변수: 두 개의 문자열을 인자로 받는 `word1`과 `word2` 두 개와 키워드 인자를 받는 `position`.\n",
        "* `word1`이 `word2`를 부분 문자열로 포함할 경우 부분 문자열이 시작하는 인덱스 반환.\n",
        "    포함하지 않을 경우 -1을 반환.\n",
        "* `position` 매개변수: 탐색을 시작하는 인덱스 지정. 기본 키워드 인자로 0 사용.\n",
        "\n",
        "단, 문자열 인덱싱, 슬라이싱만 사용하고 다른 문자열 메서드는 전혀 사용하지 않아야 한다.\n",
        "\n",
        "힌트: `range()` 함수의 구간 변경"
      ]
    },
    {
      "cell_type": "code",
      "execution_count": 15,
      "id": "d4f83523",
      "metadata": {
        "id": "d4f83523"
      },
      "outputs": [],
      "source": [
        "# 코드를 작성한다.\n",
        "# 필요하면 코드셀 또는 텍스트셀을 추가할 수 있습니다.\n",
        "def find(word1, word2, position=0):\n",
        "    len1 = len(word1)\n",
        "    len2 = len(word2)\n",
        "\n",
        "    for i in range(position, len1 - len2 + 1):\n",
        "        if word1[i:i+len2] == word2:\n",
        "            return i\n",
        "    return -1"
      ]
    },
    {
      "cell_type": "markdown",
      "id": "84ebae9c",
      "metadata": {
        "id": "84ebae9c"
      },
      "source": [
        "**문제 9**"
      ]
    },
    {
      "cell_type": "markdown",
      "id": "3ee009e0",
      "metadata": {
        "id": "3ee009e0"
      },
      "source": [
        "ROT13 은 단어의 각 문자를 13 자리만큼 회전시키는 방식의 간단한 암호 법이다.\n",
        "문자를 회전한다는 것은 알파벳 상의 위치를 이동한다는 뜻이다.\n",
        "예를 들어, `'a'` 를 3 만큼 이동하면 `'d'` 가,\n",
        "`'z'` 를 1 만큼 이동하면 `'a'` 가 된다."
      ]
    },
    {
      "cell_type": "markdown",
      "id": "f31e639f",
      "metadata": {
        "id": "f31e639f"
      },
      "source": [
        "다음 하나의 매개변수를 사용하는 `encrypt()` 함수를 구현하라.\n",
        "\n",
        "- `word`: 영어 문장 문자열\n",
        "\n",
        "함수의 반환값은 문장에 포함된 모든 영어 알파벳을 13 자리만큼 회전시킨 문자열이다.\n",
        "단, 모든 문자는 소문자로 변환한다.\n",
        "또한\n",
        "[문자열 인덱싱, 슬라이싱](file:///C:/Users/gslee/Documents/GitHub/42H/jupyter-book/_build/html/strings_part2.html)의\n",
        "예제에서 소개한 `ord()` 함수와 `chr()` 함수를 반드시 활용한다."
      ]
    },
    {
      "cell_type": "code",
      "execution_count": 22,
      "id": "504bd670",
      "metadata": {
        "id": "504bd670",
        "outputId": "b7e0b2a9-2147-4e5a-a28f-1d1085fa09e7",
        "colab": {
          "base_uri": "https://localhost:8080/"
        }
      },
      "outputs": [
        {
          "output_type": "stream",
          "name": "stdout",
          "text": [
            "nop\n"
          ]
        }
      ],
      "source": [
        "# 코드를 작성한다.\n",
        "# 필요하면 코드셀 또는 텍스트셀을 추가할 수 있습니다.\n",
        "def encrypt(word):\n",
        "    result = ''\n",
        "    for char in word:\n",
        "        ch = char.lower()\n",
        "        if 'a' <= ch <= 'z':\n",
        "            shifted = ord(ch) + 13\n",
        "            if shifted > ord('z'):\n",
        "                shifted -= 26\n",
        "            result += chr(shifted)\n",
        "        else:\n",
        "            result += ch\n",
        "    return result\n",
        "\n",
        "print(encrypt(\"AbC\"))"
      ]
    },
    {
      "cell_type": "markdown",
      "id": "166e7031",
      "metadata": {
        "id": "166e7031"
      },
      "source": [
        "**문제 10**"
      ]
    },
    {
      "cell_type": "markdown",
      "id": "6c5b7f43",
      "metadata": {
        "id": "6c5b7f43"
      },
      "source": [
        "소문자와 대문자를 그대로 유지하도록 앞서 선언한 `encrypt()` 함수를 수정하라."
      ]
    },
    {
      "cell_type": "code",
      "execution_count": 21,
      "id": "98dad863",
      "metadata": {
        "id": "98dad863",
        "outputId": "b61952f3-f089-4428-b318-017ca796037f",
        "colab": {
          "base_uri": "https://localhost:8080/"
        }
      },
      "outputs": [
        {
          "output_type": "stream",
          "name": "stdout",
          "text": [
            "NoP\n"
          ]
        }
      ],
      "source": [
        "# 코드를 작성한다.\n",
        "# 필요하면 코드셀 또는 텍스트셀을 추가할 수 있습니다.\n",
        "def encrypt(word):\n",
        "    result = ''\n",
        "    for char in word:\n",
        "        if 'a' <= char <= 'z':\n",
        "            shifted = ord(char) + 13\n",
        "            if shifted > ord('z'):\n",
        "                shifted -= 26\n",
        "            result += chr(shifted)\n",
        "        elif 'A' <= char <= 'Z':\n",
        "            shifted = ord(char) + 13\n",
        "            if shifted > ord('Z'):\n",
        "                shifted -= 26\n",
        "            result += chr(shifted)\n",
        "    return result\n",
        "\n",
        "print(encrypt(\"AbC\"))"
      ]
    },
    {
      "cell_type": "markdown",
      "id": "c75b2317",
      "metadata": {
        "id": "c75b2317"
      },
      "source": [
        "**문제 11**"
      ]
    },
    {
      "cell_type": "markdown",
      "id": "40652a67",
      "metadata": {
        "id": "40652a67"
      },
      "source": [
        "아래 함수는 양의 정수 `n`과 함께 호출되면 `n x n` 모양의 격자무늬를 출력한다."
      ]
    },
    {
      "cell_type": "code",
      "execution_count": 23,
      "id": "3e1c28f1",
      "metadata": {
        "id": "3e1c28f1"
      },
      "outputs": [],
      "source": [
        "pm = \"+ - - \"\n",
        "ps = \"|     \"\n",
        "plus_sign = \"+\"\n",
        "pipe_sign = \"|\"\n",
        "\n",
        "def print_pm(n):\n",
        "    print(pm * n + plus_sign)\n",
        "\n",
        "def print_ps(n):\n",
        "    ps_line = ps * n + pipe_sign\n",
        "    print(ps_line, ps_line, sep=\"\\n\")\n",
        "\n",
        "def grid(n):\n",
        "    for count in range(n):\n",
        "        print_pm(n)\n",
        "        print_ps(n)\n",
        "        count += 1\n",
        "\n",
        "    print_pm(n)"
      ]
    },
    {
      "cell_type": "code",
      "execution_count": 24,
      "id": "2f27b75e",
      "metadata": {
        "id": "2f27b75e",
        "outputId": "bc9a89aa-6396-431e-be70-ad21463d97e7",
        "colab": {
          "base_uri": "https://localhost:8080/"
        }
      },
      "outputs": [
        {
          "output_type": "stream",
          "name": "stdout",
          "text": [
            "+ - - + - - + - - +\n",
            "|     |     |     |\n",
            "|     |     |     |\n",
            "+ - - + - - + - - +\n",
            "|     |     |     |\n",
            "|     |     |     |\n",
            "+ - - + - - + - - +\n",
            "|     |     |     |\n",
            "|     |     |     |\n",
            "+ - - + - - + - - +\n"
          ]
        }
      ],
      "source": [
        "grid(3)"
      ]
    },
    {
      "cell_type": "markdown",
      "id": "5bf19145",
      "metadata": {
        "id": "5bf19145"
      },
      "source": [
        "위 `grid()` 함수를 일반화하여 직사각형 모양의 격자무늬를 출력하는\n",
        "`grid_gen()` 함수를 구현하라.\n",
        "사용되는 두 개의 매개 변수와 반환값은 다음과 같아야 한다.\n",
        "\n",
        "- `n`: 세로 격자 칸 개수\n",
        "- `m`: 가로 격자 칸 개수\n",
        "-  반환값: `n*m`\n",
        "\n",
        "또한, 예를 들어, `grid_gen(2, 3)` 을 실행하면 아래 모양의 격자를 그려야 한다.\n",
        "\n",
        "```\n",
        "+ - - + - - + - - +\n",
        "|     |     |     |\n",
        "|     |     |     |\n",
        "+ - - + - - + - - +\n",
        "|     |     |     |\n",
        "|     |     |     |\n",
        "+ - - + - - + - - +\n",
        "```\n",
        "\n",
        "힌트: `grid()` 함수에 매개 변수 `m`을 추가할 때 어느 부분을 수정해야 하는지 알아낸다."
      ]
    },
    {
      "cell_type": "code",
      "execution_count": 34,
      "id": "cbffd487",
      "metadata": {
        "id": "cbffd487",
        "outputId": "2d27d32d-b870-41bb-d9da-cf1b6371a675",
        "colab": {
          "base_uri": "https://localhost:8080/"
        }
      },
      "outputs": [
        {
          "output_type": "stream",
          "name": "stdout",
          "text": [
            "+ - - + - - + - - + - - +\n",
            "|     |     |     |     |\n",
            "|     |     |     |     |\n",
            "+ - - + - - + - - + - - +\n",
            "|     |     |     |     |\n",
            "|     |     |     |     |\n",
            "+ - - + - - + - - + - - +\n",
            "|     |     |     |     |\n",
            "|     |     |     |     |\n",
            "+ - - + - - + - - + - - +\n"
          ]
        }
      ],
      "source": [
        "# 코드를 작성한다.\n",
        "# 필요하면 코드셀 또는 텍스트셀을 추가할 수 있습니다.\n",
        "pm = \"+ - - \"\n",
        "ps = \"|     \"\n",
        "plus_sign = \"+\"\n",
        "pipe_sign = \"|\"\n",
        "\n",
        "def print_pm(n):\n",
        "    print(pm * n + plus_sign)\n",
        "\n",
        "def print_ps(n):\n",
        "    ps_line = ps * n + pipe_sign\n",
        "    print(ps_line, ps_line, sep=\"\\n\")\n",
        "\n",
        "def grid_gen(n,m):\n",
        "    for count in range(n):\n",
        "        print_pm(m)\n",
        "        print_ps(m)\n",
        "        count += 1\n",
        "\n",
        "    print_pm(m)\n",
        "\n",
        "grid_gen(3, 4)"
      ]
    }
  ],
  "metadata": {
    "kernelspec": {
      "display_name": "Python 3 (ipykernel)",
      "language": "python",
      "name": "python3"
    },
    "language_info": {
      "codemirror_mode": {
        "name": "ipython",
        "version": 3
      },
      "file_extension": ".py",
      "mimetype": "text/x-python",
      "name": "python",
      "nbconvert_exporter": "python",
      "pygments_lexer": "ipython3",
      "version": "3.12.7"
    },
    "colab": {
      "provenance": [],
      "include_colab_link": true
    }
  },
  "nbformat": 4,
  "nbformat_minor": 5
}